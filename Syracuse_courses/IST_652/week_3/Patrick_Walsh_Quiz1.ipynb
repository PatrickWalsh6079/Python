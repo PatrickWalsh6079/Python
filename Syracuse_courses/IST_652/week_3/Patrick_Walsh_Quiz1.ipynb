{
 "cells": [
  {
   "cell_type": "code",
   "execution_count": 5,
   "id": "22b4f9ac",
   "metadata": {},
   "outputs": [],
   "source": [
    "# Write a loop that goes through the list and prints each string where the string \n",
    "# length is three or more and the first and last characters of the strings are the same.\n",
    "\n",
    "# Test your code on the following three versions of the list examples:\n",
    "\n",
    "examples1 = ['abab', 'xyz', 'aa', 'x', 'bcb']\n",
    "examples2 = ['', 'x', 'xy', 'xyx', 'xx']\n",
    "examples3 = ['aaa', 'be', 'abc', 'hello']\n",
    "\n",
    "def looper(lst):\n",
    "    printed = []\n",
    "    \n",
    "    for x in lst:\n",
    "        try:\n",
    "            if len(lst) >= 3 and x[0] == x [-1]:\n",
    "                printed.append(x)\n",
    "        except IndexError:\n",
    "            continue\n",
    "        \n",
    "    return printed"
   ]
  },
  {
   "cell_type": "code",
   "execution_count": 6,
   "id": "5e43e08b",
   "metadata": {},
   "outputs": [
    {
     "data": {
      "text/plain": [
       "['aa', 'x', 'bcb']"
      ]
     },
     "execution_count": 6,
     "metadata": {},
     "output_type": "execute_result"
    }
   ],
   "source": [
    "looper(examples1)"
   ]
  },
  {
   "cell_type": "code",
   "execution_count": 7,
   "id": "3817df27",
   "metadata": {},
   "outputs": [
    {
     "data": {
      "text/plain": [
       "['x', 'xyx', 'xx']"
      ]
     },
     "execution_count": 7,
     "metadata": {},
     "output_type": "execute_result"
    }
   ],
   "source": [
    "looper(examples2)"
   ]
  },
  {
   "cell_type": "code",
   "execution_count": 8,
   "id": "cfbc5699",
   "metadata": {},
   "outputs": [
    {
     "data": {
      "text/plain": [
       "['aaa']"
      ]
     },
     "execution_count": 8,
     "metadata": {},
     "output_type": "execute_result"
    }
   ],
   "source": [
    "looper(examples3)"
   ]
  },
  {
   "cell_type": "code",
   "execution_count": null,
   "id": "0e95e17c",
   "metadata": {},
   "outputs": [],
   "source": []
  }
 ],
 "metadata": {
  "kernelspec": {
   "display_name": "Python 3 (ipykernel)",
   "language": "python",
   "name": "python3"
  },
  "language_info": {
   "codemirror_mode": {
    "name": "ipython",
    "version": 3
   },
   "file_extension": ".py",
   "mimetype": "text/x-python",
   "name": "python",
   "nbconvert_exporter": "python",
   "pygments_lexer": "ipython3",
   "version": "3.10.9"
  }
 },
 "nbformat": 4,
 "nbformat_minor": 5
}
