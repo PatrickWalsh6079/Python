{
 "cells": [
  {
   "cell_type": "code",
   "execution_count": 4,
   "metadata": {},
   "outputs": [],
   "source": [
    "import csv  # (library of excel functions)\n",
    "infile = 'states_data.tsv'\n",
    "\n",
    "# create new empty list\n",
    "states = []\n",
    "\n",
    "with open(infile) as csvfile:\n",
    "    # the csv file reader returns a list of the csv items on each line\n",
    "    stateReader = csv.reader(csvfile,  dialect='excel', delimiter='\\t')\n",
    "\n",
    "    # from each line, a list of row items, put each element in a dictionary\n",
    "    #   with a key representing the data\n",
    "    for line in stateReader:\n",
    "\n",
    "      #skip lines without data, specific for each file to catch non-data lines\n",
    "        if line[0] == '' or line[0].startswith('Data') or line[0].startswith('*'):\n",
    "            continue\n",
    "        else:\n",
    "          # create a dictionary for each state\n",
    "            state = {}\n",
    "\n",
    "          # add each piece of data under a key representing that column data\n",
    "            state['name'] = line[0]\n",
    "            state['abbrev'] = line[1]\n",
    "            state['code'] = line[2]\n",
    "            state['area'] = int(line[3].replace(',',''))\n",
    "            state['pop'] = int(line[4].replace(',',''))\n",
    "\n",
    "  \n",
    "          # add this state to the list\n",
    "            states.append(state)"
   ]
  },
  {
   "cell_type": "code",
   "execution_count": 5,
   "metadata": {},
   "outputs": [
    {
     "name": "stdout",
     "output_type": "stream",
     "text": [
      "Read 52 states data\n",
      "State: Alabama  Abrv: Ala.  Population: 4040587\n",
      "State: Alaska  Abrv: Alaska  Population: 550043\n",
      "State: Arizona  Abrv: Ariz.  Population: 3665228\n",
      "State: Arkansas  Abrv: Ark.  Population: 2350725\n",
      "State: California  Abrv: Calif.  Population: 29769021\n",
      "State: Colorado  Abrv: Colo.  Population: 3294394\n",
      "State: Connecticut  Abrv: Conn.  Population: 3287116\n",
      "State: Delaware  Abrv: Del.  Population: 666168\n",
      "State: District of Columbia  Abrv: D.C.  Population: 606900\n",
      "State: Florida  Abrv: Fla.  Population: 12937926\n",
      "State: Georgia  Abrv: Ga.  Population: 6478216\n",
      "State: Hawaii  Abrv: Hawaii  Population: 1108229\n",
      "State: Idaho  Abrv: Idaho  Population: 1006749\n",
      "State: Illinois  Abrv: Ill.  Population: 11430602\n",
      "State: Indiana  Abrv: Ind.  Population: 5544159\n",
      "State: Iowa  Abrv: Iowa  Population: 2776755\n",
      "State: Kansas  Abrv: Kans.  Population: 2477574\n",
      "State: Kentucky  Abrv: Ky.  Population: 3685296\n",
      "State: Louisiana  Abrv: La.  Population: 4219973\n",
      "State: Maine  Abrv: Maine  Population: 1227928\n",
      "State: Maryland  Abrv: Md.  Population: 4781468\n",
      "State: Massachusetts  Abrv: Mass.  Population: 6016425\n",
      "State: Michigan  Abrv: Mich.  Population: 9295297\n",
      "State: Minnesota  Abrv: Minn.  Population: 4375099\n",
      "State: Mississippi  Abrv: Miss.  Population: 2573216\n",
      "State: Missouri  Abrv: Mo.  Population: 5117073\n",
      "State: Montana  Abrv: Mont.  Population: 799065\n",
      "State: Nebraska  Abrv: Nebr.  Population: 1578385\n",
      "State: Nevada  Abrv: Nev.  Population: 1201833\n",
      "State: New Hampshire  Abrv: N.H.  Population: 1109252\n",
      "State: New Jersey  Abrv: N.J.  Population: 7730188\n",
      "State: New Mexico  Abrv: N.Mex.  Population: 1515069\n",
      "State: New York  Abrv: N.Y.  Population: 17990455\n",
      "State: North Carolina  Abrv: N.C.  Population: 6628637\n",
      "State: North Dakota  Abrv: N.Dak.  Population: 638800\n",
      "State: Ohio  Abrv: Ohio  Population: 10847115\n",
      "State: Oklahoma  Abrv: Okla.  Population: 3145585\n",
      "State: Oregon  Abrv: Oreg.  Population: 2842321\n",
      "State: Pennsylvania  Abrv: Pa.  Population: 11881643\n",
      "State: Rhode Island  Abrv: R.I.  Population: 1003464\n",
      "State: South Carolina  Abrv: S.C.  Population: 3468703\n",
      "State: South Dakota  Abrv: S.Dak.  Population: 696004\n",
      "State: Tennessee  Abrv: Tenn.  Population: 4877185\n",
      "State: Texas  Abrv: Tex.  Population: 16986510\n",
      "State: Utah  Abrv: Utah  Population: 1722850\n",
      "State: Vermont  Abrv: Vt.  Population: 562758\n",
      "State: Virginia  Abrv: Va.  Population: 6187358\n",
      "State: Washington  Abrv: Wash.  Population: 4866692\n",
      "State: West Virginia  Abrv: W.Va.  Population: 1793477\n",
      "State: Wisconsin  Abrv: Wis.  Population: 4891769\n",
      "State: Wyoming  Abrv: Wyo.  Population: 453588\n",
      "State: United States  Abrv:   Population: 248691873\n"
     ]
    }
   ],
   "source": [
    "print (\"Read\", len(states), \"states data\")\n",
    "\n",
    "\n",
    "# print a few fields from all of the states read from the file\n",
    "for state in states:\n",
    "    print ('State:', state['name'], ' Abrv:', state['abbrev'], ' Population:', state['pop'])"
   ]
  },
  {
   "cell_type": "code",
   "execution_count": null,
   "metadata": {},
   "outputs": [],
   "source": []
  }
 ],
 "metadata": {
  "kernelspec": {
   "display_name": "Python 3 (ipykernel)",
   "language": "python",
   "name": "python3"
  },
  "language_info": {
   "codemirror_mode": {
    "name": "ipython",
    "version": 3
   },
   "file_extension": ".py",
   "mimetype": "text/x-python",
   "name": "python",
   "nbconvert_exporter": "python",
   "pygments_lexer": "ipython3",
   "version": "3.10.9"
  }
 },
 "nbformat": 4,
 "nbformat_minor": 4
}
