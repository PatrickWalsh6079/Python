{
 "cells": [
  {
   "cell_type": "markdown",
   "id": "267f4700",
   "metadata": {},
   "source": [
    "# Week 3 exercises"
   ]
  },
  {
   "cell_type": "code",
   "execution_count": 5,
   "id": "474460da",
   "metadata": {},
   "outputs": [
    {
     "name": "stdout",
     "output_type": "stream",
     "text": [
      "C:\\Users\\Patrick\\Syracuse_courses\\IST_652\\week_3\n",
      "30\n"
     ]
    }
   ],
   "source": [
    "# Write your own program (or build on the one you wrote before) to read the NBA Attendance \n",
    "# file into Python (using Jupyter Notebook), and find:\n",
    "# 1. the average attendance, \n",
    "# 2. the average percent of occupancy, \n",
    "# 3. the max average attendance record, and \n",
    "# 4. the min percent of occupancy. \n",
    "# Display the total attendance, the average attendance, the max attendance with the team \n",
    "# name, and the min percent of occupancy with the team name.\n",
    "import os\n",
    "print(os.getcwd())\n",
    "\n",
    "with open('NBA-Attendance-2015.txt') as NBAfile:\n",
    "    NBAList = []\n",
    "\n",
    "    for line in NBAfile:\n",
    "        textline=line.strip()\n",
    "        items = textline.split()\n",
    "        NBAList.append(items)\n",
    "\n",
    "    print(len(NBAList))"
   ]
  },
  {
   "cell_type": "code",
   "execution_count": 6,
   "id": "72ba0ab2",
   "metadata": {},
   "outputs": [
    {
     "name": "stdout",
     "output_type": "stream",
     "text": [
      "Line with Index 0:   ['1', 'Bulls', '894659', '21820', '104.3']\n",
      "Line:  ['1', 'Bulls', '894659', '21820', '104.3']\n",
      "Line:  ['2', 'Cavaliers', '843042', '20562', '100']\n",
      "Line:  ['3', 'Mavericks', '825901', '20143', '104.9']\n",
      "Line:  ['4', 'Raptors', '812863', '19825', '100.1']\n",
      "Line:  ['5', 'NY', 'Knicks', '812292', '19812', '100']\n",
      "Line:  ['6', 'Heat', '809350', '19740', '100.7']\n",
      "Line:  ['7', 'Warriors', '803436', '19596', '100']\n",
      "Line:  ['8', 'Trail', 'Blazers', '794085', '19367', '99.6']\n",
      "Line:  ['9', 'Jazz', '791489', '19304', '97']\n",
      "Line:  ['10', 'Clippers', '786910', '19192', '100.7']\n",
      "Line:  ['11', 'Lakers', '778877', '18997', '99.7']\n",
      "Line:  ['12', 'Spurs', '756445', '18449', '99.3']\n",
      "Line:  ['13', 'Celtics', '749076', '18270', '98.1']\n",
      "Line:  ['14', 'Thunder', '746323', '18203', '100']\n",
      "Line:  ['15', 'Rockets', '737244', '17981', '99.7']\n",
      "Line:  ['16', 'Wizards', '725426', '17693', '87.3']\n",
      "Line:  ['17', 'Magic', '719275', '17543', '93.1']\n",
      "Line:  ['18', 'Hornets', '716894', '17485', '91.7']\n",
      "Line:  ['19', 'Kings', '707526', '17256', '99.7']\n",
      "Line:  ['20', 'Suns', '701405', '17107', '92.9']\n",
      "Line:  ['21', 'Pacers', '690733', '16847', '92.7']\n",
      "Line:  ['22', 'Hawks', '690150', '16832', '89.9']\n",
      "Line:  ['23', 'Pelicans', '688549', '16793', '97.7']\n",
      "Line:  ['24', 'Grizzlies', '684603', '16697', '92.2']\n",
      "Line:  ['25', 'Pistons', '677138', '16515', '74.8']\n",
      "Line:  ['26', 'Bucks', '621808', '15166', '81']\n",
      "Line:  ['27', 'Nets', '620142', '15125', '83.6']\n",
      "Line:  ['28', '76ers', '610121', '14881', '73.2']\n",
      "Line:  ['29', 'Timberwolves', '581178', '14175', '73.2']\n",
      "Line:  ['30', 'Nuggets', '577898', '14095', '73.6']\n"
     ]
    }
   ],
   "source": [
    "print('Line with Index 0:  ',NBAList[0])\n",
    "\n",
    "for line in NBAList:\n",
    "    print('Line: ',line)"
   ]
  },
  {
   "cell_type": "code",
   "execution_count": 15,
   "id": "ef0f4c2b",
   "metadata": {},
   "outputs": [
    {
     "name": "stdout",
     "output_type": "stream",
     "text": [
      "[21820, 20562, 20143, 19825, 19812, 19740, 19596, 19367, 19304, 19192, 18997, 18449, 18270, 18203, 17981, 17693, 17543, 17485, 17256, 17107, 16847, 16832, 16793, 16697, 16515, 15166, 15125, 14881, 14175, 14095]\n"
     ]
    }
   ],
   "source": [
    "Avg_attend = []\n",
    "for line in NBAList:\n",
    "    Avg_attend.append(int(line[-2]))\n",
    "\n",
    "print(Avg_attend)"
   ]
  },
  {
   "cell_type": "code",
   "execution_count": 16,
   "id": "5b76de6d",
   "metadata": {},
   "outputs": [
    {
     "name": "stdout",
     "output_type": "stream",
     "text": [
      "Average attendance: 17849.03\n"
     ]
    }
   ],
   "source": [
    "sum(Avg_attend)\n",
    "\n",
    "average_att = sum(Avg_attend) / len(Avg_attend)\n",
    "print('Average attendance:', '{:.2f}'.format(average_att))"
   ]
  },
  {
   "cell_type": "code",
   "execution_count": 26,
   "id": "d26571b6",
   "metadata": {},
   "outputs": [
    {
     "name": "stdout",
     "output_type": "stream",
     "text": [
      "[104.3, 100.0, 104.9, 100.1, 100.0, 100.7, 100.0, 99.6, 97.0, 100.7, 99.7, 99.3, 98.1, 100.0, 99.7, 87.3, 93.1, 91.7, 99.7, 92.9, 92.7, 89.9, 97.7, 92.2, 74.8, 81.0, 83.6, 73.2, 73.2, 73.6]\n",
      "Average occupancy percentage: 93.36 %\n"
     ]
    }
   ],
   "source": [
    "percent = [float(line[-1]) for line in NBAList]\n",
    "print(percent)\n",
    "\n",
    "avg_percent = sum(percent) / len(percent)\n",
    "print('Average occupancy percentage:', '{:.2f}'.format(avg_percent), '%')"
   ]
  },
  {
   "cell_type": "code",
   "execution_count": 29,
   "id": "0c6db2b1",
   "metadata": {},
   "outputs": [
    {
     "name": "stdout",
     "output_type": "stream",
     "text": [
      "Max attendance: 21820\n",
      "Max percentage: 104.9 %\n",
      "Min percentage: 73.2 %\n"
     ]
    }
   ],
   "source": [
    "max_att = max(Avg_attend)\n",
    "print('Max attendance:', max_att)\n",
    "\n",
    "max_percent = max(percent)\n",
    "print('Max percentage:', max_percent, '%')\n",
    "\n",
    "min_percent = min(percent)\n",
    "print('Min percentage:', min_percent, '%')"
   ]
  },
  {
   "cell_type": "code",
   "execution_count": 30,
   "id": "65b508f0",
   "metadata": {},
   "outputs": [
    {
     "name": "stdout",
     "output_type": "stream",
     "text": [
      "['Bulls', 'Cavaliers', 'Mavericks', 'Raptors', 'NY', 'Heat', 'Warriors', 'Trail', 'Jazz', 'Clippers', 'Lakers', 'Spurs', 'Celtics', 'Thunder', 'Rockets', 'Wizards', 'Magic', 'Hornets', 'Kings', 'Suns', 'Pacers', 'Hawks', 'Pelicans', 'Grizzlies', 'Pistons', 'Bucks', 'Nets', '76ers', 'Timberwolves', 'Nuggets']\n",
      "0\n",
      "Rockets\n",
      "Bulls\n"
     ]
    }
   ],
   "source": [
    "teams = []\n",
    "for line in NBAList:\n",
    "    teams.append(line[1])\n",
    "print(teams)\n",
    "\n",
    "print(Avg_attend.index(max_att))\n",
    "\n",
    "max_team=teams[14]\n",
    "print(max_team)\n",
    "\n",
    "max_team=teams[Avg_attend.index(max_att)]\n",
    "print(max_team)"
   ]
  },
  {
   "cell_type": "code",
   "execution_count": null,
   "id": "42d5ec8b",
   "metadata": {},
   "outputs": [],
   "source": []
  }
 ],
 "metadata": {
  "kernelspec": {
   "display_name": "Python 3 (ipykernel)",
   "language": "python",
   "name": "python3"
  },
  "language_info": {
   "codemirror_mode": {
    "name": "ipython",
    "version": 3
   },
   "file_extension": ".py",
   "mimetype": "text/x-python",
   "name": "python",
   "nbconvert_exporter": "python",
   "pygments_lexer": "ipython3",
   "version": "3.10.9"
  }
 },
 "nbformat": 4,
 "nbformat_minor": 5
}
