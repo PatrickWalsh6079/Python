{
 "cells": [
  {
   "cell_type": "markdown",
   "id": "65a5130c",
   "metadata": {},
   "source": [
    "# Week 3 exercises"
   ]
  },
  {
   "cell_type": "code",
   "execution_count": 2,
   "id": "1e48acd0",
   "metadata": {},
   "outputs": [
    {
     "name": "stdout",
     "output_type": "stream",
     "text": [
      "aquaman 534222\n",
      "batman 111243\n",
      "bob 454213\n",
      "superman 243555\n",
      "the flash 113224\n"
     ]
    }
   ],
   "source": [
    "# Now you try: Create a dictionary of at least five contacts with first names \n",
    "# and phone numbers, sort the list in alphabetical order, and print the\n",
    "# contacts with their phone numbers.\n",
    "\n",
    "contacts = {'batman':111243,'superman':243555,'aquaman':534222,'the flash':113224,'bob':454213}\n",
    "for k,v in sorted(contacts.items()):\n",
    "    print(k,v)"
   ]
  },
  {
   "cell_type": "code",
   "execution_count": 14,
   "id": "647b9e6b",
   "metadata": {},
   "outputs": [
    {
     "data": {
      "text/plain": [
       "[(2, 2), (1, 3), (3, 4), (1, 7)]"
      ]
     },
     "execution_count": 14,
     "metadata": {},
     "output_type": "execute_result"
    }
   ],
   "source": [
    "# Given a list of non-empty tuples, write a sort expression that will sort in \n",
    "# increasing order by the last element in each tuple.\n",
    "#Your result should look like:  [(2,2),(1,3),(3,4),(1,7)]\n",
    "\n",
    "tuples = [(1,7),(1,3),(3,4),(2,2)]\n",
    "new_tuples = sorted(tuples, key=lambda item: item[1])\n",
    "new_tuples"
   ]
  },
  {
   "cell_type": "code",
   "execution_count": 3,
   "id": "92536985",
   "metadata": {},
   "outputs": [],
   "source": [
    "# Consider the following two dictionaries:\n",
    "\n",
    "stock = {\"banana\":6,\"apple\":0,\"orange\":32,\"pear\":15}\n",
    "\n",
    "prices = {\"banana\":4,\"apple\":2,\"orange\":1.5,\"pear\":3}\n",
    "\n",
    "# Show the expression that gets the value of the stock dictionary at the key \"orange\". \n",
    "# Add another item to the dictionary (\"cherry\", 14).\n",
    "# Write the code for a loop that iterates over the stock dictionary and prints each key and value."
   ]
  },
  {
   "cell_type": "code",
   "execution_count": 2,
   "id": "3f9b21b3",
   "metadata": {},
   "outputs": [
    {
     "data": {
      "text/plain": [
       "32"
      ]
     },
     "execution_count": 2,
     "metadata": {},
     "output_type": "execute_result"
    }
   ],
   "source": [
    "# 1.\n",
    "stock['orange']"
   ]
  },
  {
   "cell_type": "code",
   "execution_count": 5,
   "id": "d77bdb3c",
   "metadata": {},
   "outputs": [
    {
     "data": {
      "text/plain": [
       "{'banana': 6, 'apple': 0, 'orange': 32, 'pear': 15, 'cherry': 14}"
      ]
     },
     "execution_count": 5,
     "metadata": {},
     "output_type": "execute_result"
    }
   ],
   "source": [
    "# 2.\n",
    "stock[\"cherry\"] = 14\n",
    "stock"
   ]
  },
  {
   "cell_type": "code",
   "execution_count": 11,
   "id": "09248ece",
   "metadata": {},
   "outputs": [
    {
     "data": {
      "text/plain": [
       "[('banana', 6), ('apple', 0), ('orange', 32), ('pear', 15), ('cherry', 14)]"
      ]
     },
     "execution_count": 11,
     "metadata": {},
     "output_type": "execute_result"
    }
   ],
   "source": [
    "# 3.\n",
    "[(k,v) for (k,v) in stock.items()]  # puts into list"
   ]
  },
  {
   "cell_type": "code",
   "execution_count": 12,
   "id": "ca8ea7c9",
   "metadata": {},
   "outputs": [
    {
     "name": "stdout",
     "output_type": "stream",
     "text": [
      "banana 6\n",
      "apple 0\n",
      "orange 32\n",
      "pear 15\n",
      "cherry 14\n"
     ]
    }
   ],
   "source": [
    "# OR\n",
    "for k,v in stock.items():\n",
    "    print(k,v)"
   ]
  },
  {
   "cell_type": "code",
   "execution_count": null,
   "id": "168e8328",
   "metadata": {},
   "outputs": [],
   "source": []
  }
 ],
 "metadata": {
  "kernelspec": {
   "display_name": "Python 3 (ipykernel)",
   "language": "python",
   "name": "python3"
  },
  "language_info": {
   "codemirror_mode": {
    "name": "ipython",
    "version": 3
   },
   "file_extension": ".py",
   "mimetype": "text/x-python",
   "name": "python",
   "nbconvert_exporter": "python",
   "pygments_lexer": "ipython3",
   "version": "3.10.9"
  }
 },
 "nbformat": 4,
 "nbformat_minor": 5
}
