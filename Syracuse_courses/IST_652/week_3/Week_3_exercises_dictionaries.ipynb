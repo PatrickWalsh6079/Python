{
 "cells": [
  {
   "cell_type": "markdown",
   "id": "73413510",
   "metadata": {},
   "source": [
    "# Week 3 exercises"
   ]
  },
  {
   "cell_type": "code",
   "execution_count": 2,
   "id": "dbfe3952",
   "metadata": {},
   "outputs": [
    {
     "name": "stdout",
     "output_type": "stream",
     "text": [
      "aquaman 534222\n",
      "batman 111243\n",
      "bob 454213\n",
      "superman 243555\n",
      "the flash 113224\n"
     ]
    }
   ],
   "source": [
    "# Now you try: Create a dictionary of at least five contacts with first names \n",
    "# and phone numbers, sort the list in alphabetical order, and print the\n",
    "# contacts with their phone numbers.\n",
    "\n",
    "contacts = {'batman':111243,'superman':243555,'aquaman':534222,'the flash':113224,'bob':454213}\n",
    "for k,v in sorted(contacts.items()):\n",
    "    print(k,v)"
   ]
  },
  {
   "cell_type": "code",
   "execution_count": null,
   "id": "6330a939",
   "metadata": {},
   "outputs": [],
   "source": []
  }
 ],
 "metadata": {
  "kernelspec": {
   "display_name": "Python 3 (ipykernel)",
   "language": "python",
   "name": "python3"
  },
  "language_info": {
   "codemirror_mode": {
    "name": "ipython",
    "version": 3
   },
   "file_extension": ".py",
   "mimetype": "text/x-python",
   "name": "python",
   "nbconvert_exporter": "python",
   "pygments_lexer": "ipython3",
   "version": "3.10.9"
  }
 },
 "nbformat": 4,
 "nbformat_minor": 5
}
