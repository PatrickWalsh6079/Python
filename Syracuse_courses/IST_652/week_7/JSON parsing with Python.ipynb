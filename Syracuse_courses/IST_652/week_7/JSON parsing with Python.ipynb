{
 "cells": [
  {
   "cell_type": "code",
   "execution_count": 1,
   "metadata": {},
   "outputs": [],
   "source": [
    "import urllib.request\n",
    "import json\n",
    "earthquake_url = \"http://earthquake.usgs.gov/earthquakes/feed/v1.0/summary/significant_month.geojson\""
   ]
  },
  {
   "cell_type": "code",
   "execution_count": 2,
   "metadata": {},
   "outputs": [],
   "source": [
    "response = urllib.request.urlopen(earthquake_url)\n",
    "json_string = response.read().decode('utf-8')"
   ]
  },
  {
   "cell_type": "code",
   "execution_count": 3,
   "metadata": {},
   "outputs": [
    {
     "data": {
      "text/plain": [
       "dict"
      ]
     },
     "execution_count": 3,
     "metadata": {},
     "output_type": "execute_result"
    }
   ],
   "source": [
    "eq_parsed_json = json.loads(json_string)\n",
    "type(eq_parsed_json)"
   ]
  },
  {
   "cell_type": "code",
   "execution_count": 4,
   "metadata": {},
   "outputs": [
    {
     "name": "stdout",
     "output_type": "stream",
     "text": [
      "dict_keys(['type', 'metadata', 'features', 'bbox'])\n",
      "FeatureCollection\n",
      "{'generated': 1684340174000, 'url': 'https://earthquake.usgs.gov/earthquakes/feed/v1.0/summary/significant_month.geojson', 'title': 'USGS Significant Earthquakes, Past Month', 'status': 200, 'api': '1.10.3', 'count': 11}\n"
     ]
    }
   ],
   "source": [
    "print(eq_parsed_json.keys())\n",
    "print(eq_parsed_json['type'])\n",
    "print(eq_parsed_json['metadata'])"
   ]
  },
  {
   "cell_type": "code",
   "execution_count": 5,
   "metadata": {},
   "outputs": [
    {
     "name": "stdout",
     "output_type": "stream",
     "text": [
      "USGS Significant Earthquakes, Past Month\n"
     ]
    },
    {
     "data": {
      "text/plain": [
       "11"
      ]
     },
     "execution_count": 5,
     "metadata": {},
     "output_type": "execute_result"
    }
   ],
   "source": [
    "title = eq_parsed_json['metadata']['title']\n",
    "print(title)\n",
    "\n",
    "quakelist = eq_parsed_json['features']\n",
    "len(quakelist)"
   ]
  },
  {
   "cell_type": "code",
   "execution_count": 6,
   "metadata": {},
   "outputs": [
    {
     "name": "stdout",
     "output_type": "stream",
     "text": [
      "<class 'dict'>\n",
      "dict_keys(['type', 'properties', 'geometry', 'id'])\n"
     ]
    }
   ],
   "source": [
    "quake1 = quakelist[0]\n",
    "print(type(quake1))\n",
    "print(quake1.keys())"
   ]
  },
  {
   "cell_type": "code",
   "execution_count": 7,
   "metadata": {},
   "outputs": [
    {
     "name": "stdout",
     "output_type": "stream",
     "text": [
      "{\n",
      "  \"type\": \"Feature\",\n",
      "  \"properties\": {\n",
      "    \"mag\": 5.16,\n",
      "    \"place\": \"4km NW of Canyondam, CA\",\n",
      "    \"time\": 1683886721310,\n",
      "    \"updated\": 1684265049551,\n",
      "    \"tz\": null,\n",
      "    \"url\": \"https://earthquake.usgs.gov/earthquakes/eventpage/nc73887046\",\n",
      "    \"detail\": \"https://earthquake.usgs.gov/earthquakes/feed/v1.0/detail/nc73887046.geojson\",\n",
      "    \"felt\": 1347,\n",
      "    \"cdi\": 6.2,\n",
      "    \"mmi\": 6.511,\n",
      "    \"alert\": \"green\",\n",
      "    \"status\": \"reviewed\",\n",
      "    \"tsunami\": 0,\n",
      "    \"sig\": 1030,\n",
      "    \"net\": \"nc\",\n",
      "    \"code\": \"73887046\",\n",
      "    \"ids\": \",ew1683886730,nc73887046,us6000kbd8,nn00859415,\",\n",
      "    \"sources\": \",ew,nc,us,nn,\",\n",
      "    \"types\": \",dyfi,focal-mechanism,general-link,ground-failure,losspager,moment-tensor,nearby-cities,origin,phase-data,scitech-link,shake-alert,shakemap,\",\n",
      "    \"nst\": 49,\n",
      "    \"dmin\": 0.06232,\n",
      "    \"rms\": 0.19,\n",
      "    \"gap\": 37,\n",
      "    \"magType\": \"mw\",\n",
      "    \"type\": \"earthquake\",\n",
      "    \"title\": \"M 5.2 - 4km NW of Canyondam, CA\"\n",
      "  },\n",
      "  \"geometry\": {\n",
      "    \"type\": \"Point\",\n",
      "    \"coordinates\": [\n",
      "      -121.0998333,\n",
      "      40.196,\n",
      "      6.06\n",
      "    ]\n",
      "  },\n",
      "  \"id\": \"nc73887046\"\n",
      "}\n"
     ]
    }
   ],
   "source": [
    "print(json.dumps(quake1, indent=2))"
   ]
  },
  {
   "cell_type": "code",
   "execution_count": null,
   "metadata": {},
   "outputs": [],
   "source": []
  }
 ],
 "metadata": {
  "kernelspec": {
   "display_name": "Python 3 (ipykernel)",
   "language": "python",
   "name": "python3"
  },
  "language_info": {
   "codemirror_mode": {
    "name": "ipython",
    "version": 3
   },
   "file_extension": ".py",
   "mimetype": "text/x-python",
   "name": "python",
   "nbconvert_exporter": "python",
   "pygments_lexer": "ipython3",
   "version": "3.10.9"
  }
 },
 "nbformat": 4,
 "nbformat_minor": 4
}
