{
 "cells": [
  {
   "cell_type": "markdown",
   "id": "0291976e",
   "metadata": {},
   "source": [
    "# Unicode examples"
   ]
  },
  {
   "cell_type": "code",
   "execution_count": 6,
   "id": "66a0c485",
   "metadata": {},
   "outputs": [
    {
     "name": "stdout",
     "output_type": "stream",
     "text": [
      "15\n",
      "255\n",
      "127\n",
      "Δ\n",
      "Δ\n",
      "Δ\n",
      "b'\\xffab'\n",
      "<class 'bytes'>\n",
      "<class 'bytes'>\n",
      "3\n",
      "<class 'str'>\n",
      "ꀀabcd޴\n"
     ]
    },
    {
     "data": {
      "text/plain": [
       "b'\\\\ua000abcd\\\\u07b4'"
      ]
     },
     "execution_count": 6,
     "metadata": {},
     "output_type": "execute_result"
    }
   ],
   "source": [
    "print(15)\n",
    "print(0xFF)\n",
    "print(0x7F)\n",
    "print('\\u0394')\n",
    "print(\"\\U00000394\")\n",
    "print(\"\\N{GREEK CAPITAL LETTER DELTA}\")\n",
    "print(b'\\xFFab')\n",
    "print(type(b'ab'))\n",
    "print(type(b'\\xFFab'))\n",
    "print(len(b'\\xFFab'))\n",
    "\n",
    "u=chr(40960) + 'abcd' + chr(1972)\n",
    "print(type(u))\n",
    "print(u)\n",
    "\n",
    "u.encode('ascii','ignore')\n",
    "u.encode('ascii','replace')\n",
    "u.encode('ascii', 'xmlcharrefreplace')\n",
    "u.encode('ascii', 'backslashreplace')\n",
    "# print(u)"
   ]
  },
  {
   "cell_type": "code",
   "execution_count": null,
   "id": "0e0e806b",
   "metadata": {},
   "outputs": [],
   "source": []
  }
 ],
 "metadata": {
  "kernelspec": {
   "display_name": "Python 3 (ipykernel)",
   "language": "python",
   "name": "python3"
  },
  "language_info": {
   "codemirror_mode": {
    "name": "ipython",
    "version": 3
   },
   "file_extension": ".py",
   "mimetype": "text/x-python",
   "name": "python",
   "nbconvert_exporter": "python",
   "pygments_lexer": "ipython3",
   "version": "3.10.9"
  }
 },
 "nbformat": 4,
 "nbformat_minor": 5
}
