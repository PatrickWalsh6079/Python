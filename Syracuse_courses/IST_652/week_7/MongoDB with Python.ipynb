{
 "cells": [
  {
   "cell_type": "markdown",
   "metadata": {},
   "source": [
    "# MongoDB with Python"
   ]
  },
  {
   "cell_type": "code",
   "execution_count": 9,
   "metadata": {},
   "outputs": [],
   "source": [
    "import pymongo\n",
    "from pymongo import MongoClient\n",
    "client = MongoClient('localhost', 27017)"
   ]
  },
  {
   "cell_type": "code",
   "execution_count": 10,
   "metadata": {},
   "outputs": [
    {
     "data": {
      "text/plain": [
       "['admin', 'config', 'local']"
      ]
     },
     "execution_count": 10,
     "metadata": {},
     "output_type": "execute_result"
    }
   ],
   "source": [
    "# show existing databases\n",
    "client.list_database_names()"
   ]
  },
  {
   "cell_type": "code",
   "execution_count": 11,
   "metadata": {},
   "outputs": [
    {
     "data": {
      "text/plain": [
       "[]"
      ]
     },
     "execution_count": 11,
     "metadata": {},
     "output_type": "execute_result"
    }
   ],
   "source": [
    "#create a new database and collection\n",
    "db = client.peopledb\n",
    "db.list_collection_names()"
   ]
  },
  {
   "cell_type": "code",
   "execution_count": 12,
   "metadata": {},
   "outputs": [
    {
     "data": {
      "text/plain": [
       "[]"
      ]
     },
     "execution_count": 12,
     "metadata": {},
     "output_type": "execute_result"
    }
   ],
   "source": [
    "#open an existing database\n",
    "db2 = client.bball\n",
    "db2.list_collection_names()"
   ]
  },
  {
   "cell_type": "code",
   "execution_count": 13,
   "metadata": {},
   "outputs": [
    {
     "data": {
      "text/plain": [
       "pymongo.collection.Collection"
      ]
     },
     "execution_count": 13,
     "metadata": {},
     "output_type": "execute_result"
    }
   ],
   "source": [
    "#create a new collection\n",
    "peoplecoll = db.people\n",
    "type(peoplecoll)"
   ]
  },
  {
   "cell_type": "code",
   "execution_count": 14,
   "metadata": {},
   "outputs": [
    {
     "data": {
      "text/plain": [
       "pymongo.collection.Collection"
      ]
     },
     "execution_count": 14,
     "metadata": {},
     "output_type": "execute_result"
    }
   ],
   "source": [
    "#Access an existing collection\n",
    "bbcoll = db2.bbcolldvl\n",
    "type(bbcoll)"
   ]
  },
  {
   "cell_type": "code",
   "execution_count": 15,
   "metadata": {},
   "outputs": [
    {
     "data": {
      "text/plain": [
       "<pymongo.results.InsertOneResult at 0x26d7fdffc70>"
      ]
     },
     "execution_count": 15,
     "metadata": {},
     "output_type": "execute_result"
    }
   ],
   "source": [
    "peoplelist = [{ \"name\": \"John Smith\", \"age\": 30 }, { \"name\": \"Bo Bennett\", \"age\": 23 }, { \"name\": \"Anna Jones\", \"age\": 25 }]\n",
    "peoplecoll.insert_one({ \"name\": \"John Smith\", \"age\": 30 })"
   ]
  },
  {
   "cell_type": "code",
   "execution_count": 16,
   "metadata": {},
   "outputs": [
    {
     "data": {
      "text/plain": [
       "<pymongo.results.InsertManyResult at 0x26d7fca9a20>"
      ]
     },
     "execution_count": 16,
     "metadata": {},
     "output_type": "execute_result"
    }
   ],
   "source": [
    " peoplecoll.insert_many(peoplelist[1: ])"
   ]
  },
  {
   "cell_type": "code",
   "execution_count": 17,
   "metadata": {},
   "outputs": [
    {
     "name": "stdout",
     "output_type": "stream",
     "text": [
      "<class 'pymongo.cursor.Cursor'>\n",
      "{'_id': ObjectId('64650a65526af5124c107b54'), 'name': 'John Smith', 'age': 30}\n",
      "{'_id': ObjectId('64650a66526af5124c107b55'), 'name': 'Bo Bennett', 'age': 23}\n",
      "{'_id': ObjectId('64650a66526af5124c107b56'), 'name': 'Anna Jones', 'age': 25}\n"
     ]
    }
   ],
   "source": [
    "docs = peoplecoll.find()\n",
    "print(type(docs))\n",
    "\n",
    "for doc in docs:\n",
    "    print(doc)\n"
   ]
  },
  {
   "cell_type": "code",
   "execution_count": 18,
   "metadata": {},
   "outputs": [
    {
     "data": {
      "text/plain": [
       "<pymongo.results.InsertManyResult at 0x26d7fe69ea0>"
      ]
     },
     "execution_count": 18,
     "metadata": {},
     "output_type": "execute_result"
    }
   ],
   "source": [
    "morepeoplelist = [{ \"name\": \"Britney Sykes\", \"age\": 21 ,'position':'Guard'}, { \"name\": \"Briana Day\", \"age\": 21,'position':'Center'}, { \"name\": \"Alexis Peterson\", \"age\": 21,'position':'Guard' }, { \"name\": \"Gabby Cooper\", \"age\": 18,'position':'Guard'}]\n",
    "peoplecoll.insert_many(morepeoplelist)"
   ]
  },
  {
   "cell_type": "code",
   "execution_count": 19,
   "metadata": {},
   "outputs": [
    {
     "name": "stdout",
     "output_type": "stream",
     "text": [
      "{'_id': ObjectId('64650a65526af5124c107b54'), 'name': 'John Smith', 'age': 30}\n",
      "{'_id': ObjectId('64650a66526af5124c107b55'), 'name': 'Bo Bennett', 'age': 23}\n",
      "{'_id': ObjectId('64650a66526af5124c107b56'), 'name': 'Anna Jones', 'age': 25}\n",
      "{'_id': ObjectId('64650a68526af5124c107b57'), 'name': 'Britney Sykes', 'age': 21, 'position': 'Guard'}\n",
      "{'_id': ObjectId('64650a68526af5124c107b58'), 'name': 'Briana Day', 'age': 21, 'position': 'Center'}\n",
      "{'_id': ObjectId('64650a68526af5124c107b59'), 'name': 'Alexis Peterson', 'age': 21, 'position': 'Guard'}\n",
      "{'_id': ObjectId('64650a68526af5124c107b5a'), 'name': 'Gabby Cooper', 'age': 18, 'position': 'Guard'}\n"
     ]
    }
   ],
   "source": [
    "docs = peoplecoll.find()\n",
    "for doc in docs:\n",
    "    print(doc)"
   ]
  },
  {
   "cell_type": "code",
   "execution_count": 20,
   "metadata": {},
   "outputs": [
    {
     "name": "stdout",
     "output_type": "stream",
     "text": [
      "{'_id': ObjectId('64650a68526af5124c107b57'), 'name': 'Britney Sykes', 'age': 21, 'position': 'Guard'}\n",
      "{'_id': ObjectId('64650a68526af5124c107b59'), 'name': 'Alexis Peterson', 'age': 21, 'position': 'Guard'}\n",
      "{'_id': ObjectId('64650a68526af5124c107b5a'), 'name': 'Gabby Cooper', 'age': 18, 'position': 'Guard'}\n"
     ]
    }
   ],
   "source": [
    "# find all the documents where the position field has value ‘Guard’\n",
    "results = peoplecoll.find({'position':'Guard'})\n",
    "for result in results:\n",
    "    print(result)"
   ]
  },
  {
   "cell_type": "markdown",
   "metadata": {},
   "source": [
    "### Insert new values in MongoDB"
   ]
  },
  {
   "cell_type": "code",
   "execution_count": 21,
   "metadata": {},
   "outputs": [],
   "source": [
    "# Build a MongoDB with the list provided. Load the items into a Mongodb, and \n",
    "# then select the entries with age under 20 and display them. Use jupyter \n",
    "# notebook to write your code and experiment with retrieving pieces of data.\n",
    "\n",
    "peoplelist = [{ \"name\": \"Britney Sykes\", \"age\": 21 , 'position':'Guard'}, \n",
    "              { \"name\": \"Briana Day\", \"age\": 19, 'position':'Center'}, \n",
    "              { \"name\": \"Alexis Peterson\", \"age\": 21, 'position':'Guard' }, \n",
    "              { \"name\": \"Gabby Cooper\", \"age\": 18, 'position':'Guard'}]"
   ]
  },
  {
   "cell_type": "markdown",
   "metadata": {},
   "source": [
    "### Insert command with list"
   ]
  },
  {
   "cell_type": "code",
   "execution_count": 22,
   "metadata": {},
   "outputs": [
    {
     "data": {
      "text/plain": [
       "<pymongo.results.InsertManyResult at 0x26d7fe6af80>"
      ]
     },
     "execution_count": 22,
     "metadata": {},
     "output_type": "execute_result"
    }
   ],
   "source": [
    "peoplecoll.insert_many(peoplelist)"
   ]
  },
  {
   "cell_type": "markdown",
   "metadata": {},
   "source": [
    "### Display results with filter"
   ]
  },
  {
   "cell_type": "code",
   "execution_count": 30,
   "metadata": {},
   "outputs": [
    {
     "name": "stdout",
     "output_type": "stream",
     "text": [
      "{'_id': ObjectId('64650a68526af5124c107b5a'), 'name': 'Gabby Cooper', 'age': 18, 'position': 'Guard'}\n",
      "{'_id': ObjectId('64650c23526af5124c107b5c'), 'name': 'Briana Day', 'age': 19, 'position': 'Center'}\n",
      "{'_id': ObjectId('64650c23526af5124c107b5e'), 'name': 'Gabby Cooper', 'age': 18, 'position': 'Guard'}\n"
     ]
    }
   ],
   "source": [
    "# select the entries with age under 20 and display them\n",
    "query = {\"age\": {\"$lt\": 20}}\n",
    "result = peoplecoll.find(query)\n",
    "for item in result:\n",
    "    print(item)"
   ]
  },
  {
   "cell_type": "code",
   "execution_count": null,
   "metadata": {},
   "outputs": [],
   "source": []
  }
 ],
 "metadata": {
  "kernelspec": {
   "display_name": "Python 3 (ipykernel)",
   "language": "python",
   "name": "python3"
  },
  "language_info": {
   "codemirror_mode": {
    "name": "ipython",
    "version": 3
   },
   "file_extension": ".py",
   "mimetype": "text/x-python",
   "name": "python",
   "nbconvert_exporter": "python",
   "pygments_lexer": "ipython3",
   "version": "3.10.9"
  }
 },
 "nbformat": 4,
 "nbformat_minor": 4
}
