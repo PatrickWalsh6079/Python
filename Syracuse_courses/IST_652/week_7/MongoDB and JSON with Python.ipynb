{
 "cells": [
  {
   "cell_type": "markdown",
   "metadata": {},
   "source": [
    "# MongoDB and JSON with Python"
   ]
  },
  {
   "cell_type": "code",
   "execution_count": 1,
   "metadata": {},
   "outputs": [],
   "source": [
    "#MongoDB and JSON data\n",
    "\n",
    "import urllib.request\n",
    "import json\n",
    "import pymongo\n"
   ]
  },
  {
   "cell_type": "code",
   "execution_count": 2,
   "metadata": {},
   "outputs": [],
   "source": [
    "# get the bbc rss feed of news stories and connect to it\n",
    "earthquake_url = \"http://earthquake.usgs.gov/earthquakes/feed/v1.0/summary/significant_month.geojson\"\n",
    "\n",
    "try:\n",
    "    response = urllib.request.urlopen(earthquake_url)\n",
    "except urllib.error.URLError as e:\n",
    "    if hasattr(e, 'reason'):\n",
    "        print('We failed to reach a server.')\n",
    "        print('Reason: ', e.reason)\n",
    "    elif hasattr(e, 'code'):\n",
    "        print('The server couldn\\'t fulfill the request.')\n",
    "        print('Error code: ', e.code)\n",
    "else:\n",
    "    # the url request was successful - convert the response to a string\n",
    "    json_string = response.read().decode('utf-8')\n"
   ]
  },
  {
   "cell_type": "code",
   "execution_count": 3,
   "metadata": {},
   "outputs": [
    {
     "name": "stdout",
     "output_type": "stream",
     "text": [
      "Collected data from USGS Significant Earthquakes, Past Month\n"
     ]
    }
   ],
   "source": [
    "# the json package loads() converts the string to python dictionaries and lists\n",
    "eq_json = json.loads(json_string)\n",
    "\n",
    "# from the json dictionary we get the title to print\n",
    "title = eq_json['metadata']['title']\n",
    "print('Collected data from', title)\n",
    "#  and we get the list of earthquakes\n",
    "quakelist = eq_json['features']\n"
   ]
  },
  {
   "cell_type": "code",
   "execution_count": 4,
   "metadata": {},
   "outputs": [
    {
     "name": "stdout",
     "output_type": "stream",
     "text": [
      "Connected successfully!!!\n",
      "Added 11 to earthquakes collection in usgs database\n"
     ]
    }
   ],
   "source": [
    "# Connection to Mongo DB\n",
    "try:\n",
    "    client=pymongo.MongoClient('localhost', 27017)\n",
    "    print (\"Connected successfully!!!\")\n",
    "except pymongo.errors.ConnectionFailure as e:\n",
    "   print (\"Could not connect to MongoDB: %s\" % e )\n",
    "else:\n",
    "    # use database named usgs or create it if not there already\n",
    "    eqdb = client.usgs\n",
    "    # create collection named earthquakes or create it if not there already\n",
    "    quakecoll = eqdb.earthquakes\n",
    "    # add all the earthquakes to the list\n",
    "    quakecoll.insert_many(quakelist)\n",
    "    print(\"Added\", len(quakelist), \"to earthquakes collection in usgs database\")\n",
    "    # close the database connection\n",
    "    \n",
    "client.close()\n"
   ]
  },
  {
   "cell_type": "code",
   "execution_count": 13,
   "metadata": {},
   "outputs": [
    {
     "name": "stdout",
     "output_type": "stream",
     "text": [
      "Connected successfully!!!\n",
      "\n",
      "Quake 1\n",
      "4km NW of Canyondam, CA\n",
      "1683886721310\n",
      "\n",
      "Quake 2\n",
      "Lake Almanor Earthquake\n",
      "1683847181990\n",
      "\n",
      "Quake 3\n",
      "95 km WNW of Hihifo, Tonga\n",
      "1683734520451\n",
      "\n",
      "Quake 4\n",
      "near the west coast of Honshu, Japan\n",
      "1683265324305\n",
      "\n",
      "Quake 5\n",
      "south of the Fiji Islands\n",
      "1682651631683\n",
      "\n",
      "Quake 6\n",
      "171 km SSE of Teluk Dalam, Indonesia\n",
      "1682366457565\n",
      "\n",
      "Quake 7\n",
      "Kermadec Islands, New Zealand\n",
      "1682296913606\n",
      "\n",
      "Quake 8\n",
      "1 km WNW of Adams Center, New York\n",
      "1682273408171\n",
      "\n",
      "Quake 9\n",
      "9km ESE of Clayton, CA\n",
      "1681961747710\n",
      "\n",
      "Quake 10\n",
      "30 km NNE of Kandrian, Papua New Guinea\n",
      "1681895163156\n",
      "\n",
      "Quake 11\n",
      "south of the Fiji Islands\n",
      "1681792303586\n"
     ]
    }
   ],
   "source": [
    "# Add to the program to get back the earthquakes from the database and \n",
    "# print the 'place' and 'time' for each quake. That is, you should add \n",
    "# code to the program that after it adds the earthquakes to Mongo, it \n",
    "# should get them back out with find() and print those two items for \n",
    "# each earthquake.\n",
    "\n",
    "# Connection to Mongo DB\n",
    "try:\n",
    "    client=pymongo.MongoClient('localhost', 27017)\n",
    "    print (\"Connected successfully!!!\")\n",
    "except pymongo.errors.ConnectionFailure as e:\n",
    "   print (\"Could not connect to MongoDB: %s\" % e )\n",
    "else:\n",
    "    # use database named usgs or create it if not there already\n",
    "    eqdb = client.usgs\n",
    "    # create collection named earthquakes or create it if not there already\n",
    "    quakecoll = eqdb.earthquakes\n",
    "    docs = quakecoll.find()\n",
    "    count = 1\n",
    "    for doc in docs:\n",
    "        print('\\nQuake',count)\n",
    "        print(doc['properties']['place'])\n",
    "        print(doc['properties']['time'])\n",
    "        count += 1\n",
    "    \n",
    "# close the database connection    \n",
    "client.close()"
   ]
  },
  {
   "cell_type": "code",
   "execution_count": null,
   "metadata": {},
   "outputs": [],
   "source": []
  }
 ],
 "metadata": {
  "kernelspec": {
   "display_name": "Python 3 (ipykernel)",
   "language": "python",
   "name": "python3"
  },
  "language_info": {
   "codemirror_mode": {
    "name": "ipython",
    "version": 3
   },
   "file_extension": ".py",
   "mimetype": "text/x-python",
   "name": "python",
   "nbconvert_exporter": "python",
   "pygments_lexer": "ipython3",
   "version": "3.10.9"
  }
 },
 "nbformat": 4,
 "nbformat_minor": 4
}
