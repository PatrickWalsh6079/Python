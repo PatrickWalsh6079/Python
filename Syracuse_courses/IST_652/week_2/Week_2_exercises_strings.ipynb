{
 "cells": [
  {
   "cell_type": "markdown",
   "id": "17550649",
   "metadata": {},
   "source": [
    "# Week 2 exercises"
   ]
  },
  {
   "cell_type": "code",
   "execution_count": 19,
   "id": "601db29e",
   "metadata": {},
   "outputs": [
    {
     "data": {
      "text/plain": [
       "'today is a great day'"
      ]
     },
     "execution_count": 19,
     "metadata": {},
     "output_type": "execute_result"
    }
   ],
   "source": [
    "# Assign the string \"Today is a Great DAY\" to the variable mp, and try out the commands below to see what responses you get.\n",
    "mp = 'Today is a Great DAY'\n",
    "mp.lower()"
   ]
  },
  {
   "cell_type": "code",
   "execution_count": 20,
   "id": "1dd4a678",
   "metadata": {},
   "outputs": [
    {
     "data": {
      "text/plain": [
       "'TODAY IS A GREAT DAY'"
      ]
     },
     "execution_count": 20,
     "metadata": {},
     "output_type": "execute_result"
    }
   ],
   "source": [
    "mp.upper()"
   ]
  },
  {
   "cell_type": "code",
   "execution_count": 21,
   "id": "a642f6fc",
   "metadata": {},
   "outputs": [
    {
     "data": {
      "text/plain": [
       "'Today is a Great DAY'"
      ]
     },
     "execution_count": 21,
     "metadata": {},
     "output_type": "execute_result"
    }
   ],
   "source": [
    "mp.strip()"
   ]
  },
  {
   "cell_type": "code",
   "execution_count": 22,
   "id": "dbf72cb9",
   "metadata": {},
   "outputs": [
    {
     "data": {
      "text/plain": [
       "False"
      ]
     },
     "execution_count": 22,
     "metadata": {},
     "output_type": "execute_result"
    }
   ],
   "source": [
    "mp.startswith('X')  # where X is the starting letter of your string"
   ]
  },
  {
   "cell_type": "code",
   "execution_count": 23,
   "id": "b63b50b4",
   "metadata": {},
   "outputs": [
    {
     "data": {
      "text/plain": [
       "-1"
      ]
     },
     "execution_count": 23,
     "metadata": {},
     "output_type": "execute_result"
    }
   ],
   "source": [
    "mp.find('Z')  # find another character in your string"
   ]
  },
  {
   "cell_type": "code",
   "execution_count": 31,
   "id": "5510bb6c",
   "metadata": {},
   "outputs": [
    {
     "name": "stdout",
     "output_type": "stream",
     "text": [
      "0.85\n"
     ]
    }
   ],
   "source": [
    "# Use find and string slicing to extract the portions of the string after the \n",
    "# colon character, and then use the float function to convert the extracted \n",
    "# string into a floating point number with two decimals.\n",
    "\n",
    "string = 'X-DSPAM-Confidence:0.8475'\n",
    "index = string.find(':')  # find the index of the :\n",
    "number = float(string[index+1:])  # assign the num v\n",
    "print('{:.2f}'.format(number))"
   ]
  },
  {
   "cell_type": "code",
   "execution_count": null,
   "id": "3fa8d9bc",
   "metadata": {},
   "outputs": [],
   "source": []
  }
 ],
 "metadata": {
  "kernelspec": {
   "display_name": "Python 3 (ipykernel)",
   "language": "python",
   "name": "python3"
  },
  "language_info": {
   "codemirror_mode": {
    "name": "ipython",
    "version": 3
   },
   "file_extension": ".py",
   "mimetype": "text/x-python",
   "name": "python",
   "nbconvert_exporter": "python",
   "pygments_lexer": "ipython3",
   "version": "3.10.9"
  }
 },
 "nbformat": 4,
 "nbformat_minor": 5
}
