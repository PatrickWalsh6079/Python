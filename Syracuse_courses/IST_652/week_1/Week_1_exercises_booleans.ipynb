{
 "cells": [
  {
   "cell_type": "markdown",
   "id": "a6733187",
   "metadata": {},
   "source": [
    "# Week 1 exercises"
   ]
  },
  {
   "cell_type": "code",
   "execution_count": 10,
   "id": "a4d46133",
   "metadata": {},
   "outputs": [
    {
     "name": "stdout",
     "output_type": "stream",
     "text": [
      "Enter your class score (0.0 - 1.0): dasdas\n",
      "Invalid score! Please enter a number between 0.0 and 1.0\n",
      "Enter your class score (0.0 - 1.0): asdsd\n",
      "Invalid score! Please enter a number between 0.0 and 1.0\n",
      "Enter your class score (0.0 - 1.0): 3\n",
      "Invalid score! Please enter a number between 0.0 and 1.0\n",
      "Enter your class score (0.0 - 1.0): -0.1\n",
      "Invalid score! Please enter a number between 0.0 and 1.0\n",
      "Enter your class score (0.0 - 1.0): 0.5\n",
      "Grade: F\n"
     ]
    }
   ],
   "source": [
    "# Write a program to prompt for a score between 0.0 and 1.0. If the score is out of range, print an\n",
    "# error message. If the score is between 0.0 and 1.0, print a grade using the following table:\n",
    "# Score Grade\n",
    "# >= 0.9 A\n",
    "# >= 0.8 B\n",
    "# >= 0.7 C\n",
    "# >= 0.6 D\n",
    "# < 0.6 F\n",
    "\n",
    "while True:\n",
    "    try:\n",
    "        score = float(input('Enter your class score (0.0 - 1.0): '))\n",
    "        if score > 1.0 or score < 0.0:\n",
    "            print('Invalid score! Please enter a number between 0.0 and 1.0')\n",
    "        elif score < 0.6:\n",
    "            print('Grade: F')\n",
    "            break\n",
    "        elif score >= 0.6 and score < 0.7:\n",
    "            print('Grade: D')\n",
    "            break\n",
    "        elif score >= 0.7 and score < 0.8:\n",
    "            print('Grade: C')\n",
    "            break\n",
    "        elif score >= 0.8 and score < 0.9:\n",
    "            print('Grade: B')\n",
    "            break\n",
    "        else:\n",
    "            print('Grade: A')\n",
    "            break\n",
    "    except ValueError:\n",
    "        print('Invalid score! Please enter a number between 0.0 and 1.0')"
   ]
  },
  {
   "cell_type": "code",
   "execution_count": null,
   "id": "4a6f5962",
   "metadata": {},
   "outputs": [],
   "source": []
  }
 ],
 "metadata": {
  "kernelspec": {
   "display_name": "Python 3 (ipykernel)",
   "language": "python",
   "name": "python3"
  },
  "language_info": {
   "codemirror_mode": {
    "name": "ipython",
    "version": 3
   },
   "file_extension": ".py",
   "mimetype": "text/x-python",
   "name": "python",
   "nbconvert_exporter": "python",
   "pygments_lexer": "ipython3",
   "version": "3.10.9"
  }
 },
 "nbformat": 4,
 "nbformat_minor": 5
}
