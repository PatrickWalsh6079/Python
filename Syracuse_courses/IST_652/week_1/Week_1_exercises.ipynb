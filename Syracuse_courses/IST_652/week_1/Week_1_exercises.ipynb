{
 "cells": [
  {
   "cell_type": "markdown",
   "id": "854d8273",
   "metadata": {},
   "source": [
    "# Week 1 exercises"
   ]
  },
  {
   "cell_type": "code",
   "execution_count": 9,
   "id": "243d7ac9",
   "metadata": {},
   "outputs": [
    {
     "name": "stdout",
     "output_type": "stream",
     "text": [
      "44\n",
      "Enter hours: 35\n",
      "Enter rate: 2.75\n",
      "Pay = 96.25\n",
      "8.5  type: float\n",
      "8.5  type: float\n",
      "4.0  type: float\n",
      "11  type: int\n"
     ]
    }
   ],
   "source": [
    "# Activity 1\n",
    "# What will the following code print out?\n",
    "x = 43\n",
    "x = x + 1\n",
    "print(x)\n",
    "\n",
    "# a) 43\n",
    "# b) 44\n",
    "# c) x + 1\n",
    "# d) Error because x = x + 1 is not possible mathematically\n",
    "\n",
    "# Activity 2\n",
    "# Write a sequence of statements into jupyter notebook to prompt the user for\n",
    "# hours and rate per hour, printing each one, and then to compute gross pay as\n",
    "# (hours * rate).\n",
    "# Your output lines should look something like:\n",
    "# Enter Hours: 35\n",
    "# Enter Rate: 2.75\n",
    "# Pay: 96.25\n",
    "#Don’t worry about making sure that Pay has exactly two digits after the decimal point.\n",
    "hours = float(input('Enter hours: '))\n",
    "rate = float(input('Enter rate: '))\n",
    "print('Pay =', hours*rate)\n",
    "\n",
    "# Activity 3\n",
    "# Assume that we execute the following assignment statements:\n",
    "width = 17\n",
    "height = 12.0\n",
    "# For each of the following expressions, write the value of the expression and its type.\n",
    "print(width / 2, ' type: float')\n",
    "print(width / 2.0, ' type: float')\n",
    "print(height / 3, ' type: float')\n",
    "print(1 + 2 * 5, ' type: int')"
   ]
  },
  {
   "cell_type": "code",
   "execution_count": null,
   "id": "d04da633",
   "metadata": {},
   "outputs": [],
   "source": []
  }
 ],
 "metadata": {
  "kernelspec": {
   "display_name": "Python 3 (ipykernel)",
   "language": "python",
   "name": "python3"
  },
  "language_info": {
   "codemirror_mode": {
    "name": "ipython",
    "version": 3
   },
   "file_extension": ".py",
   "mimetype": "text/x-python",
   "name": "python",
   "nbconvert_exporter": "python",
   "pygments_lexer": "ipython3",
   "version": "3.10.9"
  }
 },
 "nbformat": 4,
 "nbformat_minor": 5
}
