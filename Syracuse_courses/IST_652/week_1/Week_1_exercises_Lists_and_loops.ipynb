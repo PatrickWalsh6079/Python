{
 "cells": [
  {
   "cell_type": "markdown",
   "id": "157be954",
   "metadata": {},
   "source": [
    "# Week 1 exercises"
   ]
  },
  {
   "cell_type": "code",
   "execution_count": 1,
   "id": "3e4e3f63",
   "metadata": {},
   "outputs": [
    {
     "name": "stdout",
     "output_type": "stream",
     "text": [
      "tat\n",
      "hat\n",
      "fate\n",
      "cat\n",
      "gate\n"
     ]
    }
   ],
   "source": [
    "# List and Loops Activity\n",
    "# Exercise 1:\n",
    "# Suppose that there is a list of strings defined, called samples. Define the list so that some strings\n",
    "# have only one or two characters and some strings have more. Write a loop that prints out all the\n",
    "# strings whose length is greater than two.\n",
    "# Samples = [‘at’, ‘bat’, ‘c’, .....] # make up a list of at list 10 entries.\n",
    "# Then write your loop to use the list samples.\n",
    "samples = ['at','tat','t','hat','et','ft','fate','cat','gt','gate']\n",
    "for x in samples:\n",
    "    if len(x) > 2:\n",
    "        print(x)"
   ]
  },
  {
   "cell_type": "code",
   "execution_count": 2,
   "id": "02ba348a",
   "metadata": {},
   "outputs": [
    {
     "name": "stdout",
     "output_type": "stream",
     "text": [
      "tat\n",
      "cat\n"
     ]
    }
   ],
   "source": [
    "# Exercise 2:\n",
    "# Again, suppose that there is a list of strings defined, called samples. Define the list so that some\n",
    "# strings have only one or two characters and some strings have more than five. Write a loop that\n",
    "# prints out all the strings whose length is greater than two and whose length is less than five.\n",
    "# Samples = [‘at’, ‘book’, ‘c’, ‘dog’, ‘elephant’, ......] # make a list with at least 10 entries with\n",
    "# varying lengths.\n",
    "# Then write your loop to use the list samples.\n",
    "samples = ['at','tat','t','hatter','et','ft','fately','cat','gt','gatekeeper']\n",
    "for x in samples:\n",
    "    if len(x) > 2 and len(x) < 5:\n",
    "        print(x)"
   ]
  },
  {
   "cell_type": "code",
   "execution_count": null,
   "id": "56d4430e",
   "metadata": {},
   "outputs": [],
   "source": []
  }
 ],
 "metadata": {
  "kernelspec": {
   "display_name": "Python 3 (ipykernel)",
   "language": "python",
   "name": "python3"
  },
  "language_info": {
   "codemirror_mode": {
    "name": "ipython",
    "version": 3
   },
   "file_extension": ".py",
   "mimetype": "text/x-python",
   "name": "python",
   "nbconvert_exporter": "python",
   "pygments_lexer": "ipython3",
   "version": "3.10.9"
  }
 },
 "nbformat": 4,
 "nbformat_minor": 5
}
