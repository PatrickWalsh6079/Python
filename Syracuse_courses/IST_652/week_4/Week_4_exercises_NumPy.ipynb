{
 "cells": [
  {
   "cell_type": "markdown",
   "id": "5425ac08",
   "metadata": {},
   "source": [
    "### NumPy Arrays"
   ]
  },
  {
   "cell_type": "code",
   "execution_count": 1,
   "id": "d74aa22d",
   "metadata": {},
   "outputs": [],
   "source": [
    "# Generate a numpy array of size 4 by 5.\n",
    "\n",
    "# [1,2,3,4,5], [6,7,8,9,10], [11,12,13,14,15], [16,17,18,19,20]\n",
    "\n",
    "# Use index slicing and show how to get the subarray consisting of \n",
    "# the last two rows and the third and fourth columns.\n",
    "\n",
    "# Show how to create a one-dimensional array that sums the columns."
   ]
  },
  {
   "cell_type": "code",
   "execution_count": 4,
   "id": "d39e142d",
   "metadata": {},
   "outputs": [
    {
     "data": {
      "text/plain": [
       "array([[ 1,  2,  3,  4,  5],\n",
       "       [ 6,  7,  8,  9, 10],\n",
       "       [11, 12, 13, 14, 15],\n",
       "       [16, 17, 18, 19, 20]])"
      ]
     },
     "execution_count": 4,
     "metadata": {},
     "output_type": "execute_result"
    }
   ],
   "source": [
    "import numpy as np\n",
    "\n",
    "a = np.array([[1,2,3,4,5], [6,7,8,9,10], [11,12,13,14,15], [16,17,18,19,20]])\n",
    "a"
   ]
  },
  {
   "cell_type": "code",
   "execution_count": 12,
   "id": "a2006ef6",
   "metadata": {},
   "outputs": [
    {
     "data": {
      "text/plain": [
       "array([[14, 15],\n",
       "       [19, 20]])"
      ]
     },
     "execution_count": 12,
     "metadata": {},
     "output_type": "execute_result"
    }
   ],
   "source": [
    "subarray = a[2:,3:]  # a[rows, columns]\n",
    "subarray"
   ]
  },
  {
   "cell_type": "code",
   "execution_count": 24,
   "id": "2e2e1844",
   "metadata": {},
   "outputs": [
    {
     "data": {
      "text/plain": [
       "array([34, 38, 42, 46, 50])"
      ]
     },
     "execution_count": 24,
     "metadata": {},
     "output_type": "execute_result"
    }
   ],
   "source": [
    "sum_of_columns = np.array([sum(a[:,0]),sum(a[:,1]),sum(a[:,2]),sum(a[:,3]),sum(a[:,4])])\n",
    "sum_of_columns"
   ]
  },
  {
   "cell_type": "code",
   "execution_count": null,
   "id": "7c3ad41c",
   "metadata": {},
   "outputs": [],
   "source": []
  }
 ],
 "metadata": {
  "kernelspec": {
   "display_name": "Python 3 (ipykernel)",
   "language": "python",
   "name": "python3"
  },
  "language_info": {
   "codemirror_mode": {
    "name": "ipython",
    "version": 3
   },
   "file_extension": ".py",
   "mimetype": "text/x-python",
   "name": "python",
   "nbconvert_exporter": "python",
   "pygments_lexer": "ipython3",
   "version": "3.10.9"
  }
 },
 "nbformat": 4,
 "nbformat_minor": 5
}
