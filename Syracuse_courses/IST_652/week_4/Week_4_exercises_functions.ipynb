{
 "cells": [
  {
   "cell_type": "markdown",
   "id": "d743caaf",
   "metadata": {},
   "source": [
    "### Functions Activity"
   ]
  },
  {
   "cell_type": "code",
   "execution_count": 1,
   "id": "9c8d1a8f",
   "metadata": {},
   "outputs": [
    {
     "name": "stdout",
     "output_type": "stream",
     "text": [
      "ABC\n",
      "Zap\n",
      "ABC\n"
     ]
    }
   ],
   "source": [
    "# Exercise 1\n",
    "# What will the following Python program print out?\n",
    "\n",
    "def fred():\n",
    "    print(\"Zap\")\n",
    "\n",
    "def jane():\n",
    "    print(\"ABC\")\n",
    "\n",
    "jane()\n",
    "fred()\n",
    "jane()\n",
    "\n",
    "# a) Zap ABC jane fred jane\n",
    "# b) Zap ABC Zap\n",
    "# c) ABC Zap jane\n",
    "# d) ABC Zap ABC\n",
    "# e) Zap Zap Zap\n",
    "\n",
    "# Explain your answer:"
   ]
  },
  {
   "cell_type": "code",
   "execution_count": null,
   "id": "f4ceffc5",
   "metadata": {},
   "outputs": [],
   "source": [
    "# The jane() function was called first, so 'ABC' was the first\n",
    "# output. The fred() function came next, so 'Zap' was the next\n",
    "# output. Then, jane() was called again."
   ]
  },
  {
   "cell_type": "code",
   "execution_count": 12,
   "id": "75dca138",
   "metadata": {},
   "outputs": [],
   "source": [
    "# Exercise 2\n",
    "# Rewrite the pay computation program that you created in Week 2 with time-and-\n",
    "# a half for overtime and create a function called computepay that takes two\n",
    "# parameters (hours and rate).\n",
    "# Enter Hours: 45\n",
    "# Enter Rate: 20\n",
    "# Pay: 950.0\n",
    "\n",
    "def computepay(hours, rate):\n",
    "    \"\"\"\n",
    "    Takes two inputs: hours worked, and pay rate, and returns\n",
    "    the total pay. Calculates overtime if the hours are more\n",
    "    than 40.\n",
    "    \"\"\"\n",
    "    \n",
    "    # account for time-and-a-half pay.\n",
    "    overtime = 0\n",
    "    if hours > 40:\n",
    "        overtime = hours - 40\n",
    "    \n",
    "    pay = (hours * rate) + (overtime * rate * 1.5)\n",
    "    pay = '$' + str(pay)\n",
    "    return pay"
   ]
  },
  {
   "cell_type": "code",
   "execution_count": 13,
   "id": "8055d5df",
   "metadata": {},
   "outputs": [
    {
     "data": {
      "text/plain": [
       "'$1050.0'"
      ]
     },
     "execution_count": 13,
     "metadata": {},
     "output_type": "execute_result"
    }
   ],
   "source": [
    "computepay(45, 20)"
   ]
  },
  {
   "cell_type": "code",
   "execution_count": null,
   "id": "c237f772",
   "metadata": {},
   "outputs": [],
   "source": []
  }
 ],
 "metadata": {
  "kernelspec": {
   "display_name": "Python 3 (ipykernel)",
   "language": "python",
   "name": "python3"
  },
  "language_info": {
   "codemirror_mode": {
    "name": "ipython",
    "version": 3
   },
   "file_extension": ".py",
   "mimetype": "text/x-python",
   "name": "python",
   "nbconvert_exporter": "python",
   "pygments_lexer": "ipython3",
   "version": "3.10.9"
  }
 },
 "nbformat": 4,
 "nbformat_minor": 5
}
