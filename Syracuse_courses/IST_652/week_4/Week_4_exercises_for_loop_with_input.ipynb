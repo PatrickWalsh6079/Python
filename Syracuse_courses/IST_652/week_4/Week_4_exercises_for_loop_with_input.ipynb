{
 "cells": [
  {
   "cell_type": "markdown",
   "id": "f7855e7b",
   "metadata": {},
   "source": [
    "### For Loop Exercise"
   ]
  },
  {
   "cell_type": "code",
   "execution_count": 1,
   "id": "202b65ee",
   "metadata": {},
   "outputs": [],
   "source": [
    "# Write a program that repeatedly reads numbers until the user \n",
    "# enters \"done.\" Once \"done\" is entered, print out the total, \n",
    "# count, and average of the numbers. If the user enters anything \n",
    "# other than a number, detect their mistake using try and except, \n",
    "# and print an error message and skip to the next number."
   ]
  },
  {
   "cell_type": "code",
   "execution_count": 5,
   "id": "e1430c27",
   "metadata": {},
   "outputs": [
    {
     "name": "stdout",
     "output_type": "stream",
     "text": [
      "Please enter a number: fgd\n",
      "Invalid entry!\n",
      "Please enter a number: d\n",
      "Invalid entry!\n",
      "Please enter a number: 4\n",
      "Please enter a number: 3\n",
      "Please enter a number: 4\n",
      "Please enter a number: 5\n",
      "Please enter a number: DONE\n",
      "Numbers: [4, 3, 4, 5]\n",
      "Total: 16\n",
      "Count: 4\n",
      "Average: 4.0\n"
     ]
    }
   ],
   "source": [
    "numbers = []\n",
    "while True:\n",
    "    try:\n",
    "        num = input('Please enter a number: ')\n",
    "        if num.lower() == 'done':\n",
    "            break\n",
    "        else:\n",
    "            numbers.append(int(num))\n",
    "    except ValueError:\n",
    "        print('Invalid entry!')\n",
    "        \n",
    "total = sum(numbers)\n",
    "count = len(numbers)\n",
    "average = total / count\n",
    "\n",
    "print('Numbers:',numbers)\n",
    "print('Total:',total)\n",
    "print('Count:',count)\n",
    "print('Average:',average)"
   ]
  },
  {
   "cell_type": "code",
   "execution_count": null,
   "id": "a19e176f",
   "metadata": {},
   "outputs": [],
   "source": []
  }
 ],
 "metadata": {
  "kernelspec": {
   "display_name": "Python 3 (ipykernel)",
   "language": "python",
   "name": "python3"
  },
  "language_info": {
   "codemirror_mode": {
    "name": "ipython",
    "version": 3
   },
   "file_extension": ".py",
   "mimetype": "text/x-python",
   "name": "python",
   "nbconvert_exporter": "python",
   "pygments_lexer": "ipython3",
   "version": "3.10.9"
  }
 },
 "nbformat": 4,
 "nbformat_minor": 5
}
