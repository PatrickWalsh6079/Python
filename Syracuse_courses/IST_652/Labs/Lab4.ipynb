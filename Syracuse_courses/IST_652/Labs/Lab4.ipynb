{
 "cells": [
  {
   "cell_type": "markdown",
   "id": "ac08af28",
   "metadata": {},
   "source": [
    "# Lab 4"
   ]
  },
  {
   "cell_type": "markdown",
   "id": "2b53b835",
   "metadata": {},
   "source": [
    "Problem 1:\n",
    "\n",
    "Write a Python function to multiply all the numbers in a list. Please write your own function to\n",
    "accomplish this (do not use canned functions from outside libraries).\n",
    "\n",
    "Sample List : (8, 2, 3, -1, 7)\n",
    "\n",
    "Expected Output : -336\n",
    "\n",
    "Execute the function with at least 3 different lists of numbers.\n",
    "\n",
    "Print your results showing your original list and the result of multiplying them all together.\n",
    "\n",
    "Problem 2:\n",
    "\n",
    "Write a Python function that accepts a string and calculates the number of upper case letters\n",
    "and lower case letters.\n",
    "\n",
    "Sample String : 'The quick Brown Fox’\n",
    "\n",
    "Execute the function with at least 3 different phrases."
   ]
  },
  {
   "cell_type": "code",
   "execution_count": 23,
   "id": "b6cbfaef",
   "metadata": {},
   "outputs": [],
   "source": [
    "# Problem 1:\n",
    "# Write a Python function to multiply all the numbers in a list. \n",
    "# Please write your own function to accomplish this (do not use canned functions from outside libraries).\n",
    "\n",
    "sample_list = [8, 2, 3, -1, 7]\n",
    "\n",
    "# Expected Output : -336\n",
    "\n",
    "def multiply(arr):\n",
    "    \"\"\"\n",
    "    Takes in list of numbers, multiples each number, \n",
    "    returns a new list of the multiplied numbers along\n",
    "    with the product of their multiplication.\n",
    "    \"\"\"\n",
    "    answer = arr[0]\n",
    "    index = 0\n",
    "    for index in range(len(arr) - 1):\n",
    "        answer *= arr[index + 1]\n",
    "        index += 1\n",
    "        \n",
    "    return answer"
   ]
  },
  {
   "cell_type": "code",
   "execution_count": 24,
   "id": "31392c5b",
   "metadata": {},
   "outputs": [
    {
     "data": {
      "text/plain": [
       "-336"
      ]
     },
     "execution_count": 24,
     "metadata": {},
     "output_type": "execute_result"
    }
   ],
   "source": [
    "# test 1\n",
    "multiply(sample_list)"
   ]
  },
  {
   "cell_type": "code",
   "execution_count": 25,
   "id": "8ce24f36",
   "metadata": {},
   "outputs": [
    {
     "data": {
      "text/plain": [
       "12"
      ]
     },
     "execution_count": 25,
     "metadata": {},
     "output_type": "execute_result"
    }
   ],
   "source": [
    "# test 2 (expected output = 12)\n",
    "sample2 = [1,2,3,2]\n",
    "multiply(sample2)"
   ]
  },
  {
   "cell_type": "code",
   "execution_count": 27,
   "id": "15132c5b",
   "metadata": {},
   "outputs": [
    {
     "data": {
      "text/plain": [
       "-125"
      ]
     },
     "execution_count": 27,
     "metadata": {},
     "output_type": "execute_result"
    }
   ],
   "source": [
    "# test 3 (expected output = -125)\n",
    "sample3 = [-1, 5, 5, 5]\n",
    "multiply(sample3)"
   ]
  },
  {
   "cell_type": "code",
   "execution_count": 29,
   "id": "1834b652",
   "metadata": {},
   "outputs": [],
   "source": [
    "# Problem 2:\n",
    "# Write a Python function that accepts a string and calculates the \n",
    "# number of upper case letters and lower case letters.\n",
    "\n",
    "sample_string = 'The quick Brown Fox'\n",
    "\n",
    "def string_count(string):\n",
    "    \"\"\"\n",
    "    Takes in string as input and returns the\n",
    "    number of uppercase letters and lowercase\n",
    "    letters as output.\n",
    "    \"\"\"\n",
    "    uppers = 0\n",
    "    lowers = 0\n",
    "    for letter in string:\n",
    "        if letter.isupper():\n",
    "            uppers += 1\n",
    "        elif letter.islower():\n",
    "            lowers += 1\n",
    "    return uppers,lowers"
   ]
  },
  {
   "cell_type": "code",
   "execution_count": 32,
   "id": "812d61ac",
   "metadata": {},
   "outputs": [
    {
     "name": "stdout",
     "output_type": "stream",
     "text": [
      "String: The quick Brown Fox\n",
      "Number of uppercase letters: 3\n",
      "Number of lowercase letters: 13\n"
     ]
    }
   ],
   "source": [
    "print('String: ' + sample_string)\n",
    "print('Number of uppercase letters:',string_count(sample_string)[0])\n",
    "print('Number of lowercase letters:',string_count(sample_string)[1])"
   ]
  },
  {
   "cell_type": "code",
   "execution_count": 33,
   "id": "d8313718",
   "metadata": {},
   "outputs": [
    {
     "name": "stdout",
     "output_type": "stream",
     "text": [
      "String: TeLePoRtAtIoN\n",
      "Number of uppercase letters: 7\n",
      "Number of lowercase letters: 6\n"
     ]
    }
   ],
   "source": [
    "sample_string = 'TeLePoRtAtIoN'\n",
    "print('String: ' + sample_string)\n",
    "print('Number of uppercase letters:',string_count(sample_string)[0])\n",
    "print('Number of lowercase letters:',string_count(sample_string)[1])"
   ]
  },
  {
   "cell_type": "code",
   "execution_count": 34,
   "id": "1ff46b06",
   "metadata": {},
   "outputs": [
    {
     "name": "stdout",
     "output_type": "stream",
     "text": [
      "String: The Good, the Bad, and the Ugly\n",
      "Number of uppercase letters: 4\n",
      "Number of lowercase letters: 19\n"
     ]
    }
   ],
   "source": [
    "sample_string = 'The Good, the Bad, and the Ugly'\n",
    "print('String: ' + sample_string)\n",
    "print('Number of uppercase letters:',string_count(sample_string)[0])\n",
    "print('Number of lowercase letters:',string_count(sample_string)[1])"
   ]
  },
  {
   "cell_type": "code",
   "execution_count": null,
   "id": "7c442e82",
   "metadata": {},
   "outputs": [],
   "source": []
  }
 ],
 "metadata": {
  "kernelspec": {
   "display_name": "Python 3 (ipykernel)",
   "language": "python",
   "name": "python3"
  },
  "language_info": {
   "codemirror_mode": {
    "name": "ipython",
    "version": 3
   },
   "file_extension": ".py",
   "mimetype": "text/x-python",
   "name": "python",
   "nbconvert_exporter": "python",
   "pygments_lexer": "ipython3",
   "version": "3.10.9"
  }
 },
 "nbformat": 4,
 "nbformat_minor": 5
}
