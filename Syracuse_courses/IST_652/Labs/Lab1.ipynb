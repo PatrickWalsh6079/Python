{
 "cells": [
  {
   "cell_type": "markdown",
   "id": "30997508",
   "metadata": {},
   "source": [
    "## LAB EXERCISE 1\n",
    "Write a program to print the cube of all numbers from 1 to 6. A cube of a number is x3 (x* x * x).\n",
    "\n",
    "Use a loop (either a for or while loop) to go through the numbers and print out the\n",
    "cube of each number. Your output should look like this:\n",
    "\n",
    "1 cube is 1\n",
    "\n",
    "2 cube is 8\n",
    "Etc."
   ]
  },
  {
   "cell_type": "code",
   "execution_count": 1,
   "id": "d8cffc48",
   "metadata": {},
   "outputs": [
    {
     "name": "stdout",
     "output_type": "stream",
     "text": [
      "1\n",
      "8\n",
      "27\n",
      "64\n",
      "125\n",
      "216\n"
     ]
    }
   ],
   "source": [
    "for x in range(1,7):\n",
    "    cube = x*x*x\n",
    "    print(cube)"
   ]
  },
  {
   "cell_type": "code",
   "execution_count": null,
   "id": "ee33146a",
   "metadata": {},
   "outputs": [],
   "source": []
  }
 ],
 "metadata": {
  "kernelspec": {
   "display_name": "Python 3 (ipykernel)",
   "language": "python",
   "name": "python3"
  },
  "language_info": {
   "codemirror_mode": {
    "name": "ipython",
    "version": 3
   },
   "file_extension": ".py",
   "mimetype": "text/x-python",
   "name": "python",
   "nbconvert_exporter": "python",
   "pygments_lexer": "ipython3",
   "version": "3.10.9"
  }
 },
 "nbformat": 4,
 "nbformat_minor": 5
}
