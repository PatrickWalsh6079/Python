{
 "cells": [
  {
   "cell_type": "markdown",
   "metadata": {},
   "source": [
    "# Lab 2\n",
    "Use the NBA-Attendance-2015.txt and the 2-4-1ReadingFiles jupyter program as a starting\n",
    "point to read in the data. Then for each line, create a string using string and number formatting\n",
    "that puts the team, total attendance, average attendance, and capacity into a formatted string.\n",
    "Each line should look something like:\n",
    "‘The overall attendance at Atlanta was 13,993, average attendance was 9,456 and the capacity\n",
    "was 102.06%’\n",
    "\n",
    "Make sure the Attendance has appropriate commas and capacity has a 2 decimals and a %\n",
    "sign.\n",
    "\n",
    "Your program should then print these strings instead of the lines. Submit your code and the\n",
    "output of your program. Submit assignment as a jupyter notebook file."
   ]
  },
  {
   "cell_type": "code",
   "execution_count": 15,
   "metadata": {},
   "outputs": [
    {
     "name": "stdout",
     "output_type": "stream",
     "text": [
      "Number of teams:  30\n",
      "The overall attendance for the Bulls was 894,659, average attendance was 21,820, and the capacity was at 104.30%\n",
      "The overall attendance for the Cavaliers was 843,042, average attendance was 20,562, and the capacity was at 100.00%\n",
      "The overall attendance for the Mavericks was 825,901, average attendance was 20,143, and the capacity was at 104.90%\n",
      "The overall attendance for the Raptors was 812,863, average attendance was 19,825, and the capacity was at 100.10%\n",
      "The overall attendance for the NY was 812,292, average attendance was 19,812, and the capacity was at 100.00%\n",
      "The overall attendance for the Heat was 809,350, average attendance was 19,740, and the capacity was at 100.70%\n",
      "The overall attendance for the Warriors was 803,436, average attendance was 19,596, and the capacity was at 100.00%\n",
      "The overall attendance for the Trail was 794,085, average attendance was 19,367, and the capacity was at 99.60%\n",
      "The overall attendance for the Jazz was 791,489, average attendance was 19,304, and the capacity was at 97.00%\n",
      "The overall attendance for the Clippers was 786,910, average attendance was 19,192, and the capacity was at 100.70%\n",
      "The overall attendance for the Lakers was 778,877, average attendance was 18,997, and the capacity was at 99.70%\n",
      "The overall attendance for the Spurs was 756,445, average attendance was 18,449, and the capacity was at 99.30%\n",
      "The overall attendance for the Celtics was 749,076, average attendance was 18,270, and the capacity was at 98.10%\n",
      "The overall attendance for the Thunder was 746,323, average attendance was 18,203, and the capacity was at 100.00%\n",
      "The overall attendance for the Rockets was 737,244, average attendance was 17,981, and the capacity was at 99.70%\n",
      "The overall attendance for the Wizards was 725,426, average attendance was 17,693, and the capacity was at 87.30%\n",
      "The overall attendance for the Magic was 719,275, average attendance was 17,543, and the capacity was at 93.10%\n",
      "The overall attendance for the Hornets was 716,894, average attendance was 17,485, and the capacity was at 91.70%\n",
      "The overall attendance for the Kings was 707,526, average attendance was 17,256, and the capacity was at 99.70%\n",
      "The overall attendance for the Suns was 701,405, average attendance was 17,107, and the capacity was at 92.90%\n",
      "The overall attendance for the Pacers was 690,733, average attendance was 16,847, and the capacity was at 92.70%\n",
      "The overall attendance for the Hawks was 690,150, average attendance was 16,832, and the capacity was at 89.90%\n",
      "The overall attendance for the Pelicans was 688,549, average attendance was 16,793, and the capacity was at 97.70%\n",
      "The overall attendance for the Grizzlies was 684,603, average attendance was 16,697, and the capacity was at 92.20%\n",
      "The overall attendance for the Pistons was 677,138, average attendance was 16,515, and the capacity was at 74.80%\n",
      "The overall attendance for the Bucks was 621,808, average attendance was 15,166, and the capacity was at 81.00%\n",
      "The overall attendance for the Nets was 620,142, average attendance was 15,125, and the capacity was at 83.60%\n",
      "The overall attendance for the 76ers was 610,121, average attendance was 14,881, and the capacity was at 73.20%\n",
      "The overall attendance for the Timberwolves was 581,178, average attendance was 14,175, and the capacity was at 73.20%\n",
      "The overall attendance for the Nuggets was 577,898, average attendance was 14,095, and the capacity was at 73.60%\n"
     ]
    }
   ],
   "source": [
    "# Program used: Lab2.ipynb\n",
    "# This program reads a file and prints the lines and creates a list of items on the line\n",
    "\n",
    "# 1. For each line, create a string using string and number formatting that puts the team, \n",
    "#   total attendance, average attendance, and capacity into a formatted string.\n",
    "# 2. Make sure the Attendance has appropriate commas and capacity has a 2 decimals and a % sign.\n",
    "# 3. Program should then print these strings instead of the lines.\n",
    "\n",
    "# open the file for reading (in the same directory as the program)\n",
    "with open('NBA-Attendance-2015.txt') as NBAfile:\n",
    "\n",
    "    # iterate over the lines of the file and count the number of lines\n",
    "    count = 0\n",
    "    NBAlist = []\n",
    "\n",
    "    for line in NBAfile:\n",
    "\n",
    "        # increment adds one to the count variable\n",
    "        count += 1\n",
    "\n",
    "        # strip the newline at the end of the line (and other white space from ends)\n",
    "        textline = line.strip()\n",
    "\n",
    "        # split the line on whitespace\n",
    "        items = textline.split()\n",
    "        team = items[1]\n",
    "        total_attendance = int(items[-3])\n",
    "        avg_attendance = int(items[-2])\n",
    "        capacity = float(items[-1])\n",
    "        \n",
    "        # Structure:\n",
    "        # The overall attendance at Atlanta was 13,993, average attendance was 9,456 and the capacity was 102.06%\n",
    "        \n",
    "        # add the list of items to the NBAlist\n",
    "        NBAlist.append('The overall attendance for the {} was {:,}, average attendance was {:,}, and the capacity was at {:.2f}%'.format(team, total_attendance, avg_attendance, capacity))\n",
    "\n",
    "# print the number of teams read\n",
    "print('Number of teams: ', count)\n",
    "\n",
    "\n",
    "# print the lines from the list\n",
    "for line in NBAlist:\n",
    "    print (line)"
   ]
  },
  {
   "cell_type": "code",
   "execution_count": null,
   "metadata": {},
   "outputs": [],
   "source": []
  },
  {
   "cell_type": "code",
   "execution_count": null,
   "metadata": {},
   "outputs": [],
   "source": []
  },
  {
   "cell_type": "code",
   "execution_count": null,
   "metadata": {},
   "outputs": [],
   "source": []
  }
 ],
 "metadata": {
  "kernelspec": {
   "display_name": "Python 3 (ipykernel)",
   "language": "python",
   "name": "python3"
  },
  "language_info": {
   "codemirror_mode": {
    "name": "ipython",
    "version": 3
   },
   "file_extension": ".py",
   "mimetype": "text/x-python",
   "name": "python",
   "nbconvert_exporter": "python",
   "pygments_lexer": "ipython3",
   "version": "3.10.9"
  }
 },
 "nbformat": 4,
 "nbformat_minor": 4
}
