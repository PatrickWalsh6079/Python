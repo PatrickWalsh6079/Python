{
 "cells": [
  {
   "cell_type": "markdown",
   "id": "72cfd471",
   "metadata": {},
   "source": [
    "# Lab 5"
   ]
  },
  {
   "cell_type": "markdown",
   "id": "2cf2a570",
   "metadata": {},
   "source": [
    "LAB EXERCISE 5:\n",
    "\n",
    "a. Write a Python program to find a list of integers with exactly two occurrences of nineteen and at\n",
    "least three occurrences of five. Use at least 2 lists to test your logic.\n",
    "\n",
    "[19, 19, 15, 5, 3, 5, 5, 2]\n",
    "\n",
    "[19, 15, 15, 5, 3, 3, 5, 2]\n",
    "\n",
    "Output should be True or False with a count of occurrences of each number.\n",
    "\n",
    "b. Write a Python program to find the longest string of a given list of strings. Print the original list\n",
    "and the result you received. Use both lists below (run each list through your code, print the\n",
    "result, then move on to the next list).\n",
    "\n",
    "Input: ['cat', 'car', 'fear', 'center']\n",
    "\n",
    "Input: ['cat', 'dog', 'shatter', 'donut', 'at', 'todo', '']"
   ]
  },
  {
   "cell_type": "code",
   "execution_count": 3,
   "id": "9cea458e",
   "metadata": {},
   "outputs": [],
   "source": [
    "# a. Write a Python program to find a list of integers with exactly two occurrences of nineteen \n",
    "# and at least three occurrences of five. Use at least 2 lists to test your logic.\n",
    "\n",
    "lst1 = [19, 19, 15, 5, 3, 5, 5, 2]\n",
    "lst2 = [19, 15, 15, 5, 3, 3, 5, 2]\n",
    "\n",
    "# Output should be True or False with a count of occurrences of each number.\n",
    "\n",
    "def num_finder(lst):\n",
    "    \"\"\"\n",
    "    Takes list of numbers as output and checks the number\n",
    "    of 19s and 5s and does a logic check on the list.\n",
    "    \"\"\"\n",
    "    nineteens = []\n",
    "    fives = []\n",
    "    for num in lst:\n",
    "        if num == 19:\n",
    "            nineteens.append(num)\n",
    "        if num == 5:\n",
    "            fives.append(num)\n",
    "    \n",
    "    count_19 = len(nineteens)\n",
    "    count_5 = len(fives)\n",
    "    \n",
    "    return count_19, count_5, count_19 == 2 and count_5 >= 3"
   ]
  },
  {
   "cell_type": "code",
   "execution_count": 8,
   "id": "ebbf28c4",
   "metadata": {},
   "outputs": [
    {
     "name": "stdout",
     "output_type": "stream",
     "text": [
      "Results for [19, 19, 15, 5, 3, 5, 5, 2]\n",
      "# of 19s: 2\n",
      "# of 5s: 3\n",
      "Met criteria: True\n"
     ]
    }
   ],
   "source": [
    "print('Results for',lst1)\n",
    "print('# of 19s:',num_finder(lst1)[0])\n",
    "print('# of 5s:',num_finder(lst1)[1])\n",
    "print('Met criteria:',num_finder(lst1)[2])"
   ]
  },
  {
   "cell_type": "code",
   "execution_count": 9,
   "id": "eddbaf14",
   "metadata": {},
   "outputs": [
    {
     "name": "stdout",
     "output_type": "stream",
     "text": [
      "Results for [19, 15, 15, 5, 3, 3, 5, 2]\n",
      "# of 19s: 1\n",
      "# of 5s: 2\n",
      "Met criteria: False\n"
     ]
    }
   ],
   "source": [
    "print('Results for',lst2)\n",
    "print('# of 19s:',num_finder(lst2)[0])\n",
    "print('# of 5s:',num_finder(lst2)[1])\n",
    "print('Met criteria:',num_finder(lst2)[2])"
   ]
  },
  {
   "cell_type": "code",
   "execution_count": 24,
   "id": "1224d932",
   "metadata": {},
   "outputs": [],
   "source": [
    "# b. Write a Python program to find the longest string of a given list of strings. \n",
    "# Print the original list and the result you received. Use both lists below (run \n",
    "# each list through your code, print the result, then move on to the next list).\n",
    "\n",
    "input1 = ['cat', 'car', 'fear', 'center']\n",
    "\n",
    "input2 = ['cat', 'dog', 'shatter', 'donut', 'at', 'todo', '']\n",
    "\n",
    "def find_string(string):\n",
    "    \"\"\"\n",
    "    Takes in list of strings and returns the longest string in the list.\n",
    "    \"\"\"\n",
    "    longest = ''\n",
    "    for word in string:\n",
    "        if len(word) > len(longest):\n",
    "            longest = word\n",
    "    return longest"
   ]
  },
  {
   "cell_type": "code",
   "execution_count": 25,
   "id": "a13cfb71",
   "metadata": {},
   "outputs": [
    {
     "name": "stdout",
     "output_type": "stream",
     "text": [
      "List: ['cat', 'car', 'fear', 'center']\n",
      "Longest string in list: center\n"
     ]
    }
   ],
   "source": [
    "print('List:',input1)\n",
    "print('Longest string in list: ' + find_string(input1))"
   ]
  },
  {
   "cell_type": "code",
   "execution_count": 26,
   "id": "4b89e1a5",
   "metadata": {},
   "outputs": [
    {
     "name": "stdout",
     "output_type": "stream",
     "text": [
      "List: ['cat', 'dog', 'shatter', 'donut', 'at', 'todo', '']\n",
      "Longest string in list: shatter\n"
     ]
    }
   ],
   "source": [
    "print('List:',input2)\n",
    "print('Longest string in list: ' + find_string(input2))"
   ]
  },
  {
   "cell_type": "code",
   "execution_count": null,
   "id": "06fc652f",
   "metadata": {},
   "outputs": [],
   "source": []
  }
 ],
 "metadata": {
  "kernelspec": {
   "display_name": "Python 3 (ipykernel)",
   "language": "python",
   "name": "python3"
  },
  "language_info": {
   "codemirror_mode": {
    "name": "ipython",
    "version": 3
   },
   "file_extension": ".py",
   "mimetype": "text/x-python",
   "name": "python",
   "nbconvert_exporter": "python",
   "pygments_lexer": "ipython3",
   "version": "3.10.9"
  }
 },
 "nbformat": 4,
 "nbformat_minor": 5
}
