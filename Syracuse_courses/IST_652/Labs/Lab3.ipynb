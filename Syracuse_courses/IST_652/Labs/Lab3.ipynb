{
 "cells": [
  {
   "cell_type": "markdown",
   "id": "b966613d",
   "metadata": {},
   "source": [
    "# LAB 3\n",
    "Dictionaries: You may wish to write the code for parts a–d in one Jupyter notebook.\n",
    "Consider the following two dictionaries:\n",
    "\n",
    "stock = {\"banana\": 6, \"apple\": 0, \"orange\": 32, \"pear\": 15}\n",
    "prices = {\"banana\": 4, \"apple\": 2, \"orange\": 1.5, \"pear\": 3}\n",
    "\n",
    "a. Show the expression that gets the value of the stock dictionary at the key ‘orange’. Print out\n",
    "the results. Show a statement that adds an item to the stock dictionary called ‘cherry’ with\n",
    "some integer value and that adds ‘cherry’ to the prices dictionary with a numeric value. (Or\n",
    "pick your own fruit name.) Make sure you label and print your results.\n",
    "\n",
    "b. Write the code for a loop that iterates over the stock dictionary and prints each key and value.\n",
    "\n",
    "c. Suppose that we have a list:\n",
    "\n",
    "groceries = [‘apple’, ‘banana’, ‘pear’]\n",
    "\n",
    "Write the code that will sum the total number in stock of the items in the groceries list. How\n",
    "many apples + bananas + pears are there? Display the total items labeled appropriately.\n",
    "\n",
    "d. Write the code that can print out the total value in stock of all the items. This program can\n",
    "iterate over the stock dictionary and for each item multiply the number in stock times the price\n",
    "of that item in the prices dictionary. (This can include the items for ‘cherry’ or not, as you\n",
    "choose.) Display the total value with appropriate label and formatting of the total value in\n",
    "dollars."
   ]
  },
  {
   "cell_type": "code",
   "execution_count": 6,
   "id": "00763ae9",
   "metadata": {},
   "outputs": [
    {
     "name": "stdout",
     "output_type": "stream",
     "text": [
      "Stock value of orange: 32\n",
      "\n",
      "Add ‘cherry’ with some integer value to the stock and prices dictionaries:\n",
      "stock: {'banana': 6, 'apple': 0, 'orange': 32, 'pear': 15, 'cherry': 16}\n",
      "prices: {'banana': 4, 'apple': 2, 'orange': 1.5, 'pear': 3, 'cherry': 4.5}\n"
     ]
    }
   ],
   "source": [
    "# a. Show the expression that gets the value of the stock dictionary at the key ‘orange’.\n",
    "\n",
    "stock = {\"banana\": 6, \"apple\": 0, \"orange\": 32, \"pear\": 15} \n",
    "prices = {\"banana\": 4, \"apple\": 2, \"orange\": 1.5, \"pear\": 3}\n",
    "\n",
    "print('Stock value of orange:',stock['orange'])\n",
    "\n",
    "print('\\nAdd ‘cherry’ with some integer value to the stock and prices dictionaries:')\n",
    "stock['cherry'] = 16\n",
    "prices['cherry'] = 4.5\n",
    "print('stock:',stock)\n",
    "print('prices:',prices)"
   ]
  },
  {
   "cell_type": "code",
   "execution_count": 8,
   "id": "13109c2f",
   "metadata": {},
   "outputs": [
    {
     "name": "stdout",
     "output_type": "stream",
     "text": [
      "banana 6\n",
      "apple 0\n",
      "orange 32\n",
      "pear 15\n",
      "cherry 16\n"
     ]
    }
   ],
   "source": [
    "# b. Write the code for a loop that iterates over the stock dictionary and prints each key and value.\n",
    "\n",
    "for k,v in stock.items():\n",
    "    print(k,v)"
   ]
  },
  {
   "cell_type": "code",
   "execution_count": 12,
   "id": "7950d3c1",
   "metadata": {},
   "outputs": [
    {
     "name": "stdout",
     "output_type": "stream",
     "text": [
      "Item: apple 0\n",
      "Item: banana 6\n",
      "Item: pear 15\n",
      "Total: 21\n"
     ]
    }
   ],
   "source": [
    "# c. Suppose that we have a list:\n",
    "\n",
    "groceries = ['apple', 'banana', 'pear']\n",
    "\n",
    "# Write the code that will sum the total number in stock of the items \n",
    "# in the groceries list. How many apples + bananas + pears are there? \n",
    "# Display the total items labeled appropriately.\n",
    "\n",
    "total = 0\n",
    "for item in groceries:\n",
    "    print('Item:',item,stock[item])\n",
    "    total += stock[item]\n",
    "print('Total:',total)"
   ]
  },
  {
   "cell_type": "code",
   "execution_count": 22,
   "id": "95eba60e",
   "metadata": {},
   "outputs": [
    {
     "name": "stdout",
     "output_type": "stream",
     "text": [
      "banana:\n",
      "Quantity: 6\n",
      "Price: $4\n",
      "Value: $24\n",
      "\n",
      "\n",
      "apple:\n",
      "Quantity: 0\n",
      "Price: $2\n",
      "Value: $0\n",
      "\n",
      "\n",
      "orange:\n",
      "Quantity: 32\n",
      "Price: $1.5\n",
      "Value: $48.0\n",
      "\n",
      "\n",
      "pear:\n",
      "Quantity: 15\n",
      "Price: $3\n",
      "Value: $45\n",
      "\n",
      "\n",
      "cherry:\n",
      "Quantity: 16\n",
      "Price: $4.5\n",
      "Value: $72.0\n",
      "\n",
      "\n",
      "Total value: $189.0\n"
     ]
    }
   ],
   "source": [
    "# d. Write the code that can print out the total value in stock of all the items. \n",
    "# This program can iterate over the stock dictionary and for each item multiply \n",
    "# the number in stock times the price of that item in the prices dictionary. \n",
    "# (This can include the items for ‘cherry’ or not, as you choose.) Display the \n",
    "# total value with appropriate label and formatting of the total value in dollars.\n",
    "\n",
    "total_value = 0\n",
    "for k,v in stock.items():\n",
    "    item_total = stock[k] * prices[k]\n",
    "    print(k + ':')\n",
    "    print('Quantity:',stock[k])\n",
    "    print('Price: ${}'.format(prices[k]))\n",
    "    print('Value: ${}'.format(item_total))\n",
    "    total_value += item_total\n",
    "    print('\\n')\n",
    "    \n",
    "print('Total value: ${}'.format(total_value))"
   ]
  },
  {
   "cell_type": "code",
   "execution_count": null,
   "id": "e2274742",
   "metadata": {},
   "outputs": [],
   "source": []
  }
 ],
 "metadata": {
  "kernelspec": {
   "display_name": "Python 3 (ipykernel)",
   "language": "python",
   "name": "python3"
  },
  "language_info": {
   "codemirror_mode": {
    "name": "ipython",
    "version": 3
   },
   "file_extension": ".py",
   "mimetype": "text/x-python",
   "name": "python",
   "nbconvert_exporter": "python",
   "pygments_lexer": "ipython3",
   "version": "3.10.9"
  }
 },
 "nbformat": 4,
 "nbformat_minor": 5
}
