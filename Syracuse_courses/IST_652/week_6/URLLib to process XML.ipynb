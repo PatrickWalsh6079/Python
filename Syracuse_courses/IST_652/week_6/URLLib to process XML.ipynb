{
 "cells": [
  {
   "cell_type": "code",
   "execution_count": null,
   "metadata": {},
   "outputs": [],
   "source": [
    "# Find some websites that give RSS feeds, noting that some use \n",
    "# the XML given in the ATOM specification. Then choose one and \n",
    "# use urllib.request to get the document.\n",
    "\n",
    "# Use ElementTree to parse the document and choose some tags to \n",
    "# obtain. You can do something simple like get the title tags. \n",
    "# Submit your code and your output, but please print only a \n",
    "# small amount, for example, the first 10 tags. Or you may \n",
    "# choose to find some other content from the XML document."
   ]
  },
  {
   "cell_type": "code",
   "execution_count": 1,
   "metadata": {},
   "outputs": [
    {
     "data": {
      "text/plain": [
       "\"  XML block of code\\n<?xml version='1.0' encoding='utf-8'?>\\n<feed xmlns='http://www.w3.org/2005/Atom' xml:lang='en'>\\n<CATALOG>\\n<CD>\\n<TITLE>Empire Burlesque</TITLE>\\n<ARTIST>Bob Dylan</ARTIST>\\n<COUNTRY>USA</COUNTRY>\\n<COMPANY>Columbia</COMPANY>\\n<PRICE>10.90</PRICE>\\n<YEAR>1985</YEAR>\\n</CD>\\n<CD>\\n<TITLE>Hide your heart</TITLE>\\n<ARTIST>Bonnie Tyler</ARTIST>\\n<COUNTRY>UK</COUNTRY>\\n<COMPANY>CBS Records</COMPANY>\\n<PRICE>9.90</PRICE>\\n<YEAR>1988</YEAR>\\n</CD>\\n</CATALOG>\\n</feed>\\n\""
      ]
     },
     "execution_count": 1,
     "metadata": {},
     "output_type": "execute_result"
    }
   ],
   "source": [
    "'''  XML block of code\n",
    "<?xml version='1.0' encoding='utf-8'?>\n",
    "<feed xmlns='http://www.w3.org/2005/Atom' xml:lang='en'>\n",
    "<CATALOG>\n",
    "<CD>\n",
    "<TITLE>Empire Burlesque</TITLE>\n",
    "<ARTIST>Bob Dylan</ARTIST>\n",
    "<COUNTRY>USA</COUNTRY>\n",
    "<COMPANY>Columbia</COMPANY>\n",
    "<PRICE>10.90</PRICE>\n",
    "<YEAR>1985</YEAR>\n",
    "</CD>\n",
    "<CD>\n",
    "<TITLE>Hide your heart</TITLE>\n",
    "<ARTIST>Bonnie Tyler</ARTIST>\n",
    "<COUNTRY>UK</COUNTRY>\n",
    "<COMPANY>CBS Records</COMPANY>\n",
    "<PRICE>9.90</PRICE>\n",
    "<YEAR>1988</YEAR>\n",
    "</CD>\n",
    "</CATALOG>\n",
    "</feed>\n",
    "'''"
   ]
  },
  {
   "cell_type": "code",
   "execution_count": 15,
   "metadata": {},
   "outputs": [
    {
     "name": "stdout",
     "output_type": "stream",
     "text": [
      "67284\n",
      "<?xml version=\"1.0\" encoding=\"UTF-8\"?><rss xmlns:dc=\"http://purl.org/dc/elements/1.1/\" xmlns:content=\"http://purl.org/rss/1.0/modules/content/\" xmlns:atom=\"http://www.w3.org/2005/Atom\" version=\"2.0\" xmlns:media=\"http://search.yahoo.com/mrss/\"><channel><title><![CDATA[CNN.com - RSS Channel - World]]></title><description><![CDATA[CNN.com delivers up-to-the-minute news and information on the latest top stories, weather, entertainment, politics and more.]]></description><link>https://www.cnn.com/wor\n"
     ]
    }
   ],
   "source": [
    "import urllib.request\n",
    "url = \"http://rss.cnn.com/rss/cnn_world.rss\"\n",
    "xmlstring = urllib.request.urlopen(url).read().decode('utf8')\n",
    "print(len(xmlstring))\n",
    "print(xmlstring[:500])\n"
   ]
  },
  {
   "cell_type": "code",
   "execution_count": 16,
   "metadata": {},
   "outputs": [
    {
     "data": {
      "text/plain": [
       "xml.etree.ElementTree.ElementTree"
      ]
     },
     "execution_count": 16,
     "metadata": {},
     "output_type": "execute_result"
    }
   ],
   "source": [
    "import xml.etree.ElementTree as etree\n",
    "import io\n",
    "xmlfile = io.StringIO(xmlstring)\n",
    "tree = etree.parse(xmlfile)\n",
    "type(tree)\n"
   ]
  },
  {
   "cell_type": "code",
   "execution_count": 17,
   "metadata": {},
   "outputs": [
    {
     "data": {
      "text/plain": [
       "xml.etree.ElementTree.Element"
      ]
     },
     "execution_count": 17,
     "metadata": {},
     "output_type": "execute_result"
    }
   ],
   "source": [
    "root = tree.getroot()\n",
    "type(root)"
   ]
  },
  {
   "cell_type": "code",
   "execution_count": 18,
   "metadata": {},
   "outputs": [
    {
     "name": "stdout",
     "output_type": "stream",
     "text": [
      "rss\n",
      "{'version': '2.0'}\n",
      "None\n"
     ]
    }
   ],
   "source": [
    "print(root.tag)\n",
    "print(root.attrib)\n",
    "print(root.text)"
   ]
  },
  {
   "cell_type": "code",
   "execution_count": 19,
   "metadata": {},
   "outputs": [
    {
     "name": "stdout",
     "output_type": "stream",
     "text": [
      "1\n",
      "<Element 'channel' at 0x000001F43A405C60>\n"
     ]
    }
   ],
   "source": [
    "print(len(root))\n",
    "for child in root:\n",
    "    print(child)"
   ]
  },
  {
   "cell_type": "code",
   "execution_count": 20,
   "metadata": {},
   "outputs": [
    {
     "name": "stdout",
     "output_type": "stream",
     "text": [
      "<class 'xml.etree.ElementTree.Element'>\n",
      "channel\n",
      "{}\n",
      "None\n",
      "39\n"
     ]
    }
   ],
   "source": [
    "firstchild = root[0]\n",
    "print(type(firstchild))\n",
    "print(firstchild.tag)\n",
    "print(firstchild.attrib)\n",
    "print(firstchild.text)\n",
    "print(len(firstchild))"
   ]
  },
  {
   "cell_type": "code",
   "execution_count": 21,
   "metadata": {},
   "outputs": [
    {
     "name": "stdout",
     "output_type": "stream",
     "text": [
      "title\n",
      "{}\n",
      "CNN.com - RSS Channel - World\n"
     ]
    }
   ],
   "source": [
    "firstgrandchild = firstchild[0]\n",
    "print(firstgrandchild.tag)\n",
    "print(firstgrandchild.attrib)\n",
    "print(firstgrandchild.text)"
   ]
  },
  {
   "cell_type": "code",
   "execution_count": 22,
   "metadata": {},
   "outputs": [
    {
     "data": {
      "text/plain": [
       "29"
      ]
     },
     "execution_count": 22,
     "metadata": {},
     "output_type": "execute_result"
    }
   ],
   "source": [
    "itemlist = firstchild.findall('item')\n",
    "len(itemlist)\n"
   ]
  },
  {
   "cell_type": "code",
   "execution_count": 23,
   "metadata": {},
   "outputs": [
    {
     "name": "stdout",
     "output_type": "stream",
     "text": [
      "{}\n",
      "5\n"
     ]
    }
   ],
   "source": [
    "firstitem = itemlist[0]\n",
    "print(firstitem.attrib)\n",
    "print(len(firstitem))"
   ]
  },
  {
   "cell_type": "code",
   "execution_count": 24,
   "metadata": {},
   "outputs": [
    {
     "name": "stdout",
     "output_type": "stream",
     "text": [
      "title {} Markets digest bank earnings after recent turmoil\n",
      "link {} https://www.cnn.com/business/live-news/stock-market-bank-earnings/index.html\n",
      "guid {'isPermaLink': 'true'} https://www.cnn.com/business/live-news/stock-market-bank-earnings/index.html\n",
      "pubDate {} Fri, 14 Apr 2023 20:00:28 GMT\n",
      "{http://search.yahoo.com/mrss/}group {} None\n"
     ]
    }
   ],
   "source": [
    "for element in firstitem:\n",
    "    print(element.tag, element.attrib, element.text)\n"
   ]
  },
  {
   "cell_type": "code",
   "execution_count": 25,
   "metadata": {},
   "outputs": [
    {
     "data": {
      "text/plain": [
       "<Element 'item' at 0x000001F43A407A60>"
      ]
     },
     "execution_count": 25,
     "metadata": {},
     "output_type": "execute_result"
    }
   ],
   "source": [
    "firstitem = firstchild.find('item')\n",
    "firstitem\n"
   ]
  },
  {
   "cell_type": "code",
   "execution_count": 26,
   "metadata": {},
   "outputs": [
    {
     "data": {
      "text/plain": [
       "31"
      ]
     },
     "execution_count": 26,
     "metadata": {},
     "output_type": "execute_result"
    }
   ],
   "source": [
    "alltitles = tree.findall('.//title')\n",
    "len(alltitles)\n"
   ]
  },
  {
   "cell_type": "code",
   "execution_count": 27,
   "metadata": {},
   "outputs": [
    {
     "name": "stdout",
     "output_type": "stream",
     "text": [
      "CNN.com - RSS Channel - World\n",
      "CNN.com - RSS Channel - World\n",
      "Markets digest bank earnings after recent turmoil\n",
      "Still haven't filed your taxes? Here's what you need to know\n",
      "Retail spending fell in March as consumers pull back\n",
      "Analysis: Fox News is about to enter the true No Spin Zone\n"
     ]
    }
   ],
   "source": [
    "for title in alltitles[:6]:\n",
    "    print(title.text)\n"
   ]
  },
  {
   "cell_type": "code",
   "execution_count": null,
   "metadata": {},
   "outputs": [],
   "source": []
  }
 ],
 "metadata": {
  "kernelspec": {
   "display_name": "Python 3 (ipykernel)",
   "language": "python",
   "name": "python3"
  },
  "language_info": {
   "codemirror_mode": {
    "name": "ipython",
    "version": 3
   },
   "file_extension": ".py",
   "mimetype": "text/x-python",
   "name": "python",
   "nbconvert_exporter": "python",
   "pygments_lexer": "ipython3",
   "version": "3.10.9"
  }
 },
 "nbformat": 4,
 "nbformat_minor": 4
}
