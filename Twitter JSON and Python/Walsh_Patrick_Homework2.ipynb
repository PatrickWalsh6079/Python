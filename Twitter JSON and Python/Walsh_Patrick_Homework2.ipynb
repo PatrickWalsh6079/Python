{
 "cells": [
  {
   "cell_type": "markdown",
   "id": "ec3e2aae",
   "metadata": {},
   "source": [
    "# Analyzing Twitter JSON data"
   ]
  },
  {
   "cell_type": "code",
   "execution_count": 1,
   "id": "f143228a",
   "metadata": {},
   "outputs": [],
   "source": [
    "# Importing required libraries\n",
    "import pandas as pd\n",
    "from pandas.io.json import json_normalize\n",
    "import warnings\n",
    "warnings.filterwarnings(\"ignore\")"
   ]
  },
  {
   "cell_type": "code",
   "execution_count": 2,
   "id": "8dae5ab0",
   "metadata": {},
   "outputs": [
    {
     "name": "stdout",
     "output_type": "stream",
     "text": [
      "Shape:  (48429, 21)\n"
     ]
    },
    {
     "data": {
      "text/html": [
       "<div>\n",
       "<style scoped>\n",
       "    .dataframe tbody tr th:only-of-type {\n",
       "        vertical-align: middle;\n",
       "    }\n",
       "\n",
       "    .dataframe tbody tr th {\n",
       "        vertical-align: top;\n",
       "    }\n",
       "\n",
       "    .dataframe thead th {\n",
       "        text-align: right;\n",
       "    }\n",
       "</style>\n",
       "<table border=\"1\" class=\"dataframe\">\n",
       "  <thead>\n",
       "    <tr style=\"text-align: right;\">\n",
       "      <th></th>\n",
       "      <th>url</th>\n",
       "      <th>date</th>\n",
       "      <th>content</th>\n",
       "      <th>renderedContent</th>\n",
       "      <th>id</th>\n",
       "      <th>user</th>\n",
       "      <th>outlinks</th>\n",
       "      <th>tcooutlinks</th>\n",
       "      <th>replyCount</th>\n",
       "      <th>retweetCount</th>\n",
       "      <th>...</th>\n",
       "      <th>quoteCount</th>\n",
       "      <th>conversationId</th>\n",
       "      <th>lang</th>\n",
       "      <th>source</th>\n",
       "      <th>sourceUrl</th>\n",
       "      <th>sourceLabel</th>\n",
       "      <th>media</th>\n",
       "      <th>retweetedTweet</th>\n",
       "      <th>quotedTweet</th>\n",
       "      <th>mentionedUsers</th>\n",
       "    </tr>\n",
       "  </thead>\n",
       "  <tbody>\n",
       "    <tr>\n",
       "      <th>0</th>\n",
       "      <td>https://twitter.com/ArjunSinghPanam/status/136...</td>\n",
       "      <td>2021-02-24 09:23:35+00:00</td>\n",
       "      <td>The world progresses while the Indian police a...</td>\n",
       "      <td>The world progresses while the Indian police a...</td>\n",
       "      <td>1364506249291784198</td>\n",
       "      <td>{'username': 'ArjunSinghPanam', 'displayname':...</td>\n",
       "      <td>[https://twitter.com/ravisinghka/status/136415...</td>\n",
       "      <td>[https://t.co/es3kn0IQAF]</td>\n",
       "      <td>0</td>\n",
       "      <td>0</td>\n",
       "      <td>...</td>\n",
       "      <td>0</td>\n",
       "      <td>1364506249291784198</td>\n",
       "      <td>en</td>\n",
       "      <td>&lt;a href=\"http://twitter.com/download/iphone\" r...</td>\n",
       "      <td>http://twitter.com/download/iphone</td>\n",
       "      <td>Twitter for iPhone</td>\n",
       "      <td>None</td>\n",
       "      <td>NaN</td>\n",
       "      <td>{'url': 'https://twitter.com/RaviSinghKA/statu...</td>\n",
       "      <td>[{'username': 'narendramodi', 'displayname': '...</td>\n",
       "    </tr>\n",
       "    <tr>\n",
       "      <th>1</th>\n",
       "      <td>https://twitter.com/PrdeepNain/status/13645062...</td>\n",
       "      <td>2021-02-24 09:23:32+00:00</td>\n",
       "      <td>#FarmersProtest \\n#ModiIgnoringFarmersDeaths \\...</td>\n",
       "      <td>#FarmersProtest \\n#ModiIgnoringFarmersDeaths \\...</td>\n",
       "      <td>1364506237451313155</td>\n",
       "      <td>{'username': 'PrdeepNain', 'displayname': 'Pra...</td>\n",
       "      <td>[]</td>\n",
       "      <td>[]</td>\n",
       "      <td>0</td>\n",
       "      <td>0</td>\n",
       "      <td>...</td>\n",
       "      <td>0</td>\n",
       "      <td>1364506237451313155</td>\n",
       "      <td>en</td>\n",
       "      <td>&lt;a href=\"http://twitter.com/download/android\" ...</td>\n",
       "      <td>http://twitter.com/download/android</td>\n",
       "      <td>Twitter for Android</td>\n",
       "      <td>[{'thumbnailUrl': 'https://pbs.twimg.com/ext_t...</td>\n",
       "      <td>NaN</td>\n",
       "      <td>None</td>\n",
       "      <td>[{'username': 'Kisanektamorcha', 'displayname'...</td>\n",
       "    </tr>\n",
       "    <tr>\n",
       "      <th>3</th>\n",
       "      <td>https://twitter.com/anmoldhaliwal/status/13645...</td>\n",
       "      <td>2021-02-24 09:23:16+00:00</td>\n",
       "      <td>@ReallySwara @rohini_sgh watch full video here...</td>\n",
       "      <td>@ReallySwara @rohini_sgh watch full video here...</td>\n",
       "      <td>1364506167226032128</td>\n",
       "      <td>{'username': 'anmoldhaliwal', 'displayname': '...</td>\n",
       "      <td>[https://youtu.be/-bUKumwq-J8]</td>\n",
       "      <td>[https://t.co/wBPNdJdB0n]</td>\n",
       "      <td>0</td>\n",
       "      <td>0</td>\n",
       "      <td>...</td>\n",
       "      <td>0</td>\n",
       "      <td>1364350947099484160</td>\n",
       "      <td>en</td>\n",
       "      <td>&lt;a href=\"https://mobile.twitter.com\" rel=\"nofo...</td>\n",
       "      <td>https://mobile.twitter.com</td>\n",
       "      <td>Twitter Web App</td>\n",
       "      <td>[{'thumbnailUrl': 'https://pbs.twimg.com/ext_t...</td>\n",
       "      <td>NaN</td>\n",
       "      <td>None</td>\n",
       "      <td>[{'username': 'ReallySwara', 'displayname': 'S...</td>\n",
       "    </tr>\n",
       "    <tr>\n",
       "      <th>8</th>\n",
       "      <td>https://twitter.com/anmoldhaliwal/status/13645...</td>\n",
       "      <td>2021-02-24 09:22:34+00:00</td>\n",
       "      <td>@mandeeppunia1 watch full video here https://t...</td>\n",
       "      <td>@mandeeppunia1 watch full video here youtu.be/...</td>\n",
       "      <td>1364505991887347714</td>\n",
       "      <td>{'username': 'anmoldhaliwal', 'displayname': '...</td>\n",
       "      <td>[https://youtu.be/-bUKumwq-J8]</td>\n",
       "      <td>[https://t.co/wBPNdJdB0n]</td>\n",
       "      <td>0</td>\n",
       "      <td>0</td>\n",
       "      <td>...</td>\n",
       "      <td>0</td>\n",
       "      <td>1364428985074032646</td>\n",
       "      <td>en</td>\n",
       "      <td>&lt;a href=\"https://mobile.twitter.com\" rel=\"nofo...</td>\n",
       "      <td>https://mobile.twitter.com</td>\n",
       "      <td>Twitter Web App</td>\n",
       "      <td>[{'thumbnailUrl': 'https://pbs.twimg.com/ext_t...</td>\n",
       "      <td>NaN</td>\n",
       "      <td>None</td>\n",
       "      <td>[{'username': 'mandeeppunia1', 'displayname': ...</td>\n",
       "    </tr>\n",
       "    <tr>\n",
       "      <th>11</th>\n",
       "      <td>https://twitter.com/anmoldhaliwal/status/13645...</td>\n",
       "      <td>2021-02-24 09:21:51+00:00</td>\n",
       "      <td>@mandeeppunia1 watch full video here https://t...</td>\n",
       "      <td>@mandeeppunia1 watch full video here youtu.be/...</td>\n",
       "      <td>1364505813834989568</td>\n",
       "      <td>{'username': 'anmoldhaliwal', 'displayname': '...</td>\n",
       "      <td>[https://youtu.be/-bUKumwq-J8]</td>\n",
       "      <td>[https://t.co/wBPNdJdB0n]</td>\n",
       "      <td>0</td>\n",
       "      <td>0</td>\n",
       "      <td>...</td>\n",
       "      <td>0</td>\n",
       "      <td>1364480983995584515</td>\n",
       "      <td>en</td>\n",
       "      <td>&lt;a href=\"https://mobile.twitter.com\" rel=\"nofo...</td>\n",
       "      <td>https://mobile.twitter.com</td>\n",
       "      <td>Twitter Web App</td>\n",
       "      <td>[{'thumbnailUrl': 'https://pbs.twimg.com/ext_t...</td>\n",
       "      <td>NaN</td>\n",
       "      <td>None</td>\n",
       "      <td>[{'username': 'mandeeppunia1', 'displayname': ...</td>\n",
       "    </tr>\n",
       "  </tbody>\n",
       "</table>\n",
       "<p>5 rows × 21 columns</p>\n",
       "</div>"
      ],
      "text/plain": [
       "                                                  url  \\\n",
       "0   https://twitter.com/ArjunSinghPanam/status/136...   \n",
       "1   https://twitter.com/PrdeepNain/status/13645062...   \n",
       "3   https://twitter.com/anmoldhaliwal/status/13645...   \n",
       "8   https://twitter.com/anmoldhaliwal/status/13645...   \n",
       "11  https://twitter.com/anmoldhaliwal/status/13645...   \n",
       "\n",
       "                        date  \\\n",
       "0  2021-02-24 09:23:35+00:00   \n",
       "1  2021-02-24 09:23:32+00:00   \n",
       "3  2021-02-24 09:23:16+00:00   \n",
       "8  2021-02-24 09:22:34+00:00   \n",
       "11 2021-02-24 09:21:51+00:00   \n",
       "\n",
       "                                              content  \\\n",
       "0   The world progresses while the Indian police a...   \n",
       "1   #FarmersProtest \\n#ModiIgnoringFarmersDeaths \\...   \n",
       "3   @ReallySwara @rohini_sgh watch full video here...   \n",
       "8   @mandeeppunia1 watch full video here https://t...   \n",
       "11  @mandeeppunia1 watch full video here https://t...   \n",
       "\n",
       "                                      renderedContent                   id  \\\n",
       "0   The world progresses while the Indian police a...  1364506249291784198   \n",
       "1   #FarmersProtest \\n#ModiIgnoringFarmersDeaths \\...  1364506237451313155   \n",
       "3   @ReallySwara @rohini_sgh watch full video here...  1364506167226032128   \n",
       "8   @mandeeppunia1 watch full video here youtu.be/...  1364505991887347714   \n",
       "11  @mandeeppunia1 watch full video here youtu.be/...  1364505813834989568   \n",
       "\n",
       "                                                 user  \\\n",
       "0   {'username': 'ArjunSinghPanam', 'displayname':...   \n",
       "1   {'username': 'PrdeepNain', 'displayname': 'Pra...   \n",
       "3   {'username': 'anmoldhaliwal', 'displayname': '...   \n",
       "8   {'username': 'anmoldhaliwal', 'displayname': '...   \n",
       "11  {'username': 'anmoldhaliwal', 'displayname': '...   \n",
       "\n",
       "                                             outlinks  \\\n",
       "0   [https://twitter.com/ravisinghka/status/136415...   \n",
       "1                                                  []   \n",
       "3                      [https://youtu.be/-bUKumwq-J8]   \n",
       "8                      [https://youtu.be/-bUKumwq-J8]   \n",
       "11                     [https://youtu.be/-bUKumwq-J8]   \n",
       "\n",
       "                  tcooutlinks  replyCount  retweetCount  ...  quoteCount  \\\n",
       "0   [https://t.co/es3kn0IQAF]           0             0  ...           0   \n",
       "1                          []           0             0  ...           0   \n",
       "3   [https://t.co/wBPNdJdB0n]           0             0  ...           0   \n",
       "8   [https://t.co/wBPNdJdB0n]           0             0  ...           0   \n",
       "11  [https://t.co/wBPNdJdB0n]           0             0  ...           0   \n",
       "\n",
       "         conversationId  lang  \\\n",
       "0   1364506249291784198    en   \n",
       "1   1364506237451313155    en   \n",
       "3   1364350947099484160    en   \n",
       "8   1364428985074032646    en   \n",
       "11  1364480983995584515    en   \n",
       "\n",
       "                                               source  \\\n",
       "0   <a href=\"http://twitter.com/download/iphone\" r...   \n",
       "1   <a href=\"http://twitter.com/download/android\" ...   \n",
       "3   <a href=\"https://mobile.twitter.com\" rel=\"nofo...   \n",
       "8   <a href=\"https://mobile.twitter.com\" rel=\"nofo...   \n",
       "11  <a href=\"https://mobile.twitter.com\" rel=\"nofo...   \n",
       "\n",
       "                              sourceUrl          sourceLabel  \\\n",
       "0    http://twitter.com/download/iphone   Twitter for iPhone   \n",
       "1   http://twitter.com/download/android  Twitter for Android   \n",
       "3            https://mobile.twitter.com      Twitter Web App   \n",
       "8            https://mobile.twitter.com      Twitter Web App   \n",
       "11           https://mobile.twitter.com      Twitter Web App   \n",
       "\n",
       "                                                media retweetedTweet  \\\n",
       "0                                                None            NaN   \n",
       "1   [{'thumbnailUrl': 'https://pbs.twimg.com/ext_t...            NaN   \n",
       "3   [{'thumbnailUrl': 'https://pbs.twimg.com/ext_t...            NaN   \n",
       "8   [{'thumbnailUrl': 'https://pbs.twimg.com/ext_t...            NaN   \n",
       "11  [{'thumbnailUrl': 'https://pbs.twimg.com/ext_t...            NaN   \n",
       "\n",
       "                                          quotedTweet  \\\n",
       "0   {'url': 'https://twitter.com/RaviSinghKA/statu...   \n",
       "1                                                None   \n",
       "3                                                None   \n",
       "8                                                None   \n",
       "11                                               None   \n",
       "\n",
       "                                       mentionedUsers  \n",
       "0   [{'username': 'narendramodi', 'displayname': '...  \n",
       "1   [{'username': 'Kisanektamorcha', 'displayname'...  \n",
       "3   [{'username': 'ReallySwara', 'displayname': 'S...  \n",
       "8   [{'username': 'mandeeppunia1', 'displayname': ...  \n",
       "11  [{'username': 'mandeeppunia1', 'displayname': ...  \n",
       "\n",
       "[5 rows x 21 columns]"
      ]
     },
     "execution_count": 2,
     "metadata": {},
     "output_type": "execute_result"
    }
   ],
   "source": [
    "# Read JSON file containing tweets data and removce tweets not in English\n",
    "file = 'farmers-protest-tweets-2021-2-4.json'\n",
    "raw_tweets = pd.read_json(file, lines=True)\n",
    "raw_tweets = raw_tweets[raw_tweets['lang']=='en']\n",
    "print(\"Shape: \", raw_tweets.shape)\n",
    "raw_tweets.head(5)"
   ]
  },
  {
   "cell_type": "code",
   "execution_count": 3,
   "id": "69aeec09",
   "metadata": {},
   "outputs": [
    {
     "data": {
      "text/plain": [
       "Index(['url', 'date', 'content', 'renderedContent', 'id', 'user', 'outlinks',\n",
       "       'tcooutlinks', 'replyCount', 'retweetCount', 'likeCount', 'quoteCount',\n",
       "       'conversationId', 'lang', 'source', 'sourceUrl', 'sourceLabel', 'media',\n",
       "       'retweetedTweet', 'quotedTweet', 'mentionedUsers'],\n",
       "      dtype='object')"
      ]
     },
     "execution_count": 3,
     "metadata": {},
     "output_type": "execute_result"
    }
   ],
   "source": [
    "raw_tweets.columns"
   ]
  },
  {
   "cell_type": "code",
   "execution_count": 4,
   "id": "5e777b31",
   "metadata": {},
   "outputs": [],
   "source": [
    "# fill null values with 0\n",
    "raw_tweets = raw_tweets.fillna(0)"
   ]
  },
  {
   "cell_type": "markdown",
   "id": "adb14e9d",
   "metadata": {},
   "source": [
    "# Question 1"
   ]
  },
  {
   "cell_type": "markdown",
   "id": "9ce243ce",
   "metadata": {},
   "source": [
    "Bin the Tweets by day and report on the number of tweets per day.\n",
    "\n",
    "1. Which day had the most Tweets? \n",
    "\n",
    "2. Which day had the least number of Tweets?\n",
    "\n",
    "3. What was the general trend of Tweets overtime?"
   ]
  },
  {
   "cell_type": "code",
   "execution_count": 5,
   "id": "e061a221",
   "metadata": {},
   "outputs": [
    {
     "data": {
      "text/plain": [
       "array(['02'], dtype=object)"
      ]
     },
     "execution_count": 5,
     "metadata": {},
     "output_type": "execute_result"
    }
   ],
   "source": [
    "# check for all the months represented\n",
    "raw_tweets.date.dt.strftime('%m').unique()"
   ]
  },
  {
   "cell_type": "markdown",
   "id": "f6a64806",
   "metadata": {},
   "source": [
    "output above confirms that all the Tweets occurred in February."
   ]
  },
  {
   "cell_type": "code",
   "execution_count": 6,
   "id": "cf5ddcb9",
   "metadata": {},
   "outputs": [
    {
     "data": {
      "text/plain": [
       "array(['24', '23', '22', '21', '20', '19', '18', '17', '16', '15', '14',\n",
       "       '13', '12'], dtype=object)"
      ]
     },
     "execution_count": 6,
     "metadata": {},
     "output_type": "execute_result"
    }
   ],
   "source": [
    "# Now check which days these Tweets occurred on.\n",
    "raw_tweets.date.dt.strftime('%d').unique()"
   ]
  },
  {
   "cell_type": "markdown",
   "id": "43e5910f",
   "metadata": {},
   "source": [
    "Add a column called 'date_bin' which captures the month and day the Tweet occurred on."
   ]
  },
  {
   "cell_type": "code",
   "execution_count": 7,
   "id": "8151c658",
   "metadata": {},
   "outputs": [],
   "source": [
    "raw_tweets['date_bin'] = raw_tweets.date.dt.strftime('%m/%d')"
   ]
  },
  {
   "cell_type": "markdown",
   "id": "ff2a8ba3",
   "metadata": {},
   "source": [
    "Now check how many Tweets occurred on each day, started with the high count."
   ]
  },
  {
   "cell_type": "code",
   "execution_count": 8,
   "id": "c5e1cc7d",
   "metadata": {},
   "outputs": [
    {
     "data": {
      "text/plain": [
       "02/17    4516\n",
       "02/12    4423\n",
       "02/15    4407\n",
       "02/14    4350\n",
       "02/16    4343\n",
       "02/13    4124\n",
       "02/20    3730\n",
       "02/18    3701\n",
       "02/23    3566\n",
       "02/19    3540\n",
       "02/22    3133\n",
       "02/21    3120\n",
       "02/24    1476\n",
       "Name: date_bin, dtype: int64"
      ]
     },
     "execution_count": 8,
     "metadata": {},
     "output_type": "execute_result"
    }
   ],
   "source": [
    "raw_tweets['date_bin'].value_counts()"
   ]
  },
  {
   "cell_type": "markdown",
   "id": "504497bb",
   "metadata": {},
   "source": [
    "### 1. Which day had the most Tweets?"
   ]
  },
  {
   "cell_type": "code",
   "execution_count": 9,
   "id": "30303fbd",
   "metadata": {},
   "outputs": [
    {
     "name": "stdout",
     "output_type": "stream",
     "text": [
      "The day with the highest number of Tweets was: 02/17\n",
      "Number of Tweets on this day: 4516\n"
     ]
    }
   ],
   "source": [
    "# Which day had the most Tweets?\n",
    "\n",
    "most_tweets = raw_tweets['date_bin'].value_counts()[0]\n",
    "highest_day = raw_tweets['date_bin'].value_counts().idxmax()\n",
    "\n",
    "print('The day with the highest number of Tweets was:', highest_day)\n",
    "print('Number of Tweets on this day:',most_tweets)"
   ]
  },
  {
   "cell_type": "markdown",
   "id": "68e4defb",
   "metadata": {},
   "source": [
    "### 2. Which day had the least number of Tweets?"
   ]
  },
  {
   "cell_type": "code",
   "execution_count": 10,
   "id": "c485b84f",
   "metadata": {},
   "outputs": [
    {
     "name": "stdout",
     "output_type": "stream",
     "text": [
      "The day with the lowest number of Tweets was: 02/24\n",
      "Number of Tweets on this day: 1476\n"
     ]
    }
   ],
   "source": [
    "# Which day had the least number of Tweets?\n",
    "\n",
    "least_tweets = raw_tweets['date_bin'].value_counts()[-1]\n",
    "lowest_day = raw_tweets['date_bin'].value_counts().idxmin()\n",
    "\n",
    "print('The day with the lowest number of Tweets was:', lowest_day)\n",
    "print('Number of Tweets on this day:',least_tweets)"
   ]
  },
  {
   "cell_type": "markdown",
   "id": "9e90ce29",
   "metadata": {},
   "source": [
    "### 3. What was the general trend of Tweets overtime?"
   ]
  },
  {
   "cell_type": "markdown",
   "id": "c876f350",
   "metadata": {},
   "source": [
    "Finally, show a trend line of Tweets for the entire month. \n",
    "\n",
    "We see that the number of Tweets has a general trend downward as time goes on."
   ]
  },
  {
   "cell_type": "code",
   "execution_count": 11,
   "id": "3f01dd61",
   "metadata": {},
   "outputs": [
    {
     "data": {
      "image/png": "[encoded data removed]",
      "text/plain": [
       "<Figure size 640x480 with 1 Axes>"
      ]
     },
     "metadata": {},
     "output_type": "display_data"
    }
   ],
   "source": [
    "import matplotlib.pyplot as plt\n",
    "\n",
    "value_counts = raw_tweets['date_bin'].value_counts().sort_index()\n",
    "plt.plot(value_counts)\n",
    "plt.xticks(rotation=45)\n",
    "plt.show()"
   ]
  },
  {
   "cell_type": "markdown",
   "id": "259925f3",
   "metadata": {},
   "source": [
    "# Question 2\n",
    "Find all the hashtags in the Twitter data and do some analysis.\n",
    "\n",
    "1. What were the top 5 hashtags used in this data?\n",
    "\n",
    "2. How many individual unique hashtags are used?\n",
    "\n",
    "3. What is the min, max, and average number of hashtags used per Tweet?"
   ]
  },
  {
   "cell_type": "code",
   "execution_count": 12,
   "id": "20f9a700",
   "metadata": {},
   "outputs": [],
   "source": [
    "# first, take the 'content' column and make it all lowercase so that #Farmersprotest \n",
    "# and #farmersprotest will be considered the same hashtag.\n",
    "raw_tweets['lowercase'] = raw_tweets['content'].str.lower()\n",
    "\n",
    "# Extract hashtags from 'content' column\n",
    "raw_tweets['hashtags'] = raw_tweets['lowercase'].str.findall(r'#\\w+')"
   ]
  },
  {
   "cell_type": "code",
   "execution_count": 13,
   "id": "95057666",
   "metadata": {},
   "outputs": [
    {
     "data": {
      "text/plain": [
       "[#farmersprotest]                                                                                         12454\n",
       "[#pagdi_sambhal_jatta, #farmersprotest]                                                                     706\n",
       "[#farmersmakeindia, #farmersprotest]                                                                        674\n",
       "[#msplawforallcrops, #farmersprotest]                                                                       613\n",
       "[#farmersprotest, #mahapanchayatrevolution]                                                                 608\n",
       "                                                                                                          ...  \n",
       "[#india, #hindutvafacism, #warcrimes, #kashmir, #farmersprotest, #women, #girls, #freekashmir, #metoo]        1\n",
       "[#farmersprotest, #nepotism]                                                                                  1\n",
       "[#disharavi, #nikitajacob, #shantanumuluk, #farmersprotest, #farmersmakelndia]                                1\n",
       "[#farmersprotest, #lpg_petrol_loot]                                                                           1\n",
       "[#spinelesscelebs, #antinationalbollywood, #farmersprotest, #bjpagainstfarmers]                               1\n",
       "Name: hashtags, Length: 13230, dtype: int64"
      ]
     },
     "execution_count": 13,
     "metadata": {},
     "output_type": "execute_result"
    }
   ],
   "source": [
    "raw_tweets['hashtags'].value_counts()"
   ]
  },
  {
   "cell_type": "markdown",
   "id": "e95f7fb7",
   "metadata": {},
   "source": [
    "### 1. What were the top 5 hashtags used in this data?"
   ]
  },
  {
   "cell_type": "code",
   "execution_count": 14,
   "id": "5dc9bfb5",
   "metadata": {},
   "outputs": [
    {
     "name": "stdout",
     "output_type": "stream",
     "text": [
      "The top 5 hashtags are:\n",
      "[#farmersprotest]                              12454\n",
      "[#pagdi_sambhal_jatta, #farmersprotest]          706\n",
      "[#farmersmakeindia, #farmersprotest]             674\n",
      "[#msplawforallcrops, #farmersprotest]            613\n",
      "[#farmersprotest, #mahapanchayatrevolution]      608\n",
      "Name: hashtags, dtype: int64\n"
     ]
    }
   ],
   "source": [
    "top_5 = raw_tweets['hashtags'].value_counts()[:5]\n",
    "\n",
    "print('The top 5 hashtags are:')\n",
    "print(top_5)"
   ]
  },
  {
   "cell_type": "markdown",
   "id": "72bea074",
   "metadata": {},
   "source": [
    "### 2. How many individual unique hashtags are used?"
   ]
  },
  {
   "cell_type": "code",
   "execution_count": 15,
   "id": "9c7fe2fd",
   "metadata": {},
   "outputs": [
    {
     "data": {
      "text/plain": [
       "['#stopdivideandruleconspiracy',\n",
       " '#oneappealrepeal',\n",
       " '#vladimirputin',\n",
       " '#prime9news',\n",
       " '#coronavac',\n",
       " '#citizens_of_black_money_for_basic_needs',\n",
       " '#shaheed_jawaan_shaheed_kisaan',\n",
       " '#getlost',\n",
       " '#illustration',\n",
       " '#farmersrprotestinbihar']"
      ]
     },
     "execution_count": 15,
     "metadata": {},
     "output_type": "execute_result"
    }
   ],
   "source": [
    "unique_hashtags = []\n",
    "# extract indivdiual hashtags used\n",
    "for obj in list(raw_tweets['hashtags']):\n",
    "    for hashtag in obj:\n",
    "        unique_hashtags.append(hashtag)\n",
    "unique_hashtags = set(unique_hashtags) # get only unique hashtags\n",
    "unique_hashtags = list(unique_hashtags) # cast unique hashtags back into list\n",
    "unique_hashtags[:10]"
   ]
  },
  {
   "cell_type": "code",
   "execution_count": 16,
   "id": "b8ea575b",
   "metadata": {},
   "outputs": [
    {
     "name": "stdout",
     "output_type": "stream",
     "text": [
      "There are 7973 unique hashtags used.\n"
     ]
    }
   ],
   "source": [
    "print('There are {} unique hashtags used.'.format(len(unique_hashtags)))"
   ]
  },
  {
   "cell_type": "markdown",
   "id": "46ec4985",
   "metadata": {},
   "source": [
    "### 3. What is the min, max, and average number of hashtags used per Tweet?"
   ]
  },
  {
   "cell_type": "code",
   "execution_count": 17,
   "id": "68c05e8d",
   "metadata": {},
   "outputs": [
    {
     "data": {
      "text/html": [
       "<div>\n",
       "<style scoped>\n",
       "    .dataframe tbody tr th:only-of-type {\n",
       "        vertical-align: middle;\n",
       "    }\n",
       "\n",
       "    .dataframe tbody tr th {\n",
       "        vertical-align: top;\n",
       "    }\n",
       "\n",
       "    .dataframe thead th {\n",
       "        text-align: right;\n",
       "    }\n",
       "</style>\n",
       "<table border=\"1\" class=\"dataframe\">\n",
       "  <thead>\n",
       "    <tr style=\"text-align: right;\">\n",
       "      <th></th>\n",
       "      <th>lowercase</th>\n",
       "      <th>hashtags</th>\n",
       "      <th>hashtags_count</th>\n",
       "    </tr>\n",
       "  </thead>\n",
       "  <tbody>\n",
       "    <tr>\n",
       "      <th>0</th>\n",
       "      <td>the world progresses while the indian police a...</td>\n",
       "      <td>[#modidontsellfarmers, #farmersprotest, #freen...</td>\n",
       "      <td>3</td>\n",
       "    </tr>\n",
       "    <tr>\n",
       "      <th>1</th>\n",
       "      <td>#farmersprotest \\n#modiignoringfarmersdeaths \\...</td>\n",
       "      <td>[#farmersprotest, #modiignoringfarmersdeaths, ...</td>\n",
       "      <td>3</td>\n",
       "    </tr>\n",
       "    <tr>\n",
       "      <th>3</th>\n",
       "      <td>@reallyswara @rohini_sgh watch full video here...</td>\n",
       "      <td>[#farmersprotest, #nofarmersnofood]</td>\n",
       "      <td>2</td>\n",
       "    </tr>\n",
       "    <tr>\n",
       "      <th>8</th>\n",
       "      <td>@mandeeppunia1 watch full video here https://t...</td>\n",
       "      <td>[#farmersprotest, #nofarmersnofood]</td>\n",
       "      <td>2</td>\n",
       "    </tr>\n",
       "    <tr>\n",
       "      <th>11</th>\n",
       "      <td>@mandeeppunia1 watch full video here https://t...</td>\n",
       "      <td>[#farmersprotest, #nofarmersnofood]</td>\n",
       "      <td>2</td>\n",
       "    </tr>\n",
       "    <tr>\n",
       "      <th>...</th>\n",
       "      <td>...</td>\n",
       "      <td>...</td>\n",
       "      <td>...</td>\n",
       "    </tr>\n",
       "    <tr>\n",
       "      <th>117395</th>\n",
       "      <td>modi want to make you slave \\n\\nthis is free i...</td>\n",
       "      <td>[#mahapanchayatrevolution, #farmersprotest]</td>\n",
       "      <td>2</td>\n",
       "    </tr>\n",
       "    <tr>\n",
       "      <th>117397</th>\n",
       "      <td>now farmers agitation is no longer confined to...</td>\n",
       "      <td>[#mahapanchayatrevolution, #farmersprotest]</td>\n",
       "      <td>2</td>\n",
       "    </tr>\n",
       "    <tr>\n",
       "      <th>117400</th>\n",
       "      <td>the first mahapanchayat of punjab. the revolut...</td>\n",
       "      <td>[#mahapanchayatrevolution, #farmersprotest]</td>\n",
       "      <td>2</td>\n",
       "    </tr>\n",
       "    <tr>\n",
       "      <th>117404</th>\n",
       "      <td>united we stand.\\ndivided we fall\\n#mahapancha...</td>\n",
       "      <td>[#mahapanchayatrevolution, #farmersprotest]</td>\n",
       "      <td>2</td>\n",
       "    </tr>\n",
       "    <tr>\n",
       "      <th>117406</th>\n",
       "      <td>@kisanektamorcha we are with you, keep the mor...</td>\n",
       "      <td>[#farmersprotest, #mahapanchayatrevolution]</td>\n",
       "      <td>2</td>\n",
       "    </tr>\n",
       "  </tbody>\n",
       "</table>\n",
       "<p>48429 rows × 3 columns</p>\n",
       "</div>"
      ],
      "text/plain": [
       "                                                lowercase  \\\n",
       "0       the world progresses while the indian police a...   \n",
       "1       #farmersprotest \\n#modiignoringfarmersdeaths \\...   \n",
       "3       @reallyswara @rohini_sgh watch full video here...   \n",
       "8       @mandeeppunia1 watch full video here https://t...   \n",
       "11      @mandeeppunia1 watch full video here https://t...   \n",
       "...                                                   ...   \n",
       "117395  modi want to make you slave \\n\\nthis is free i...   \n",
       "117397  now farmers agitation is no longer confined to...   \n",
       "117400  the first mahapanchayat of punjab. the revolut...   \n",
       "117404  united we stand.\\ndivided we fall\\n#mahapancha...   \n",
       "117406  @kisanektamorcha we are with you, keep the mor...   \n",
       "\n",
       "                                                 hashtags  hashtags_count  \n",
       "0       [#modidontsellfarmers, #farmersprotest, #freen...               3  \n",
       "1       [#farmersprotest, #modiignoringfarmersdeaths, ...               3  \n",
       "3                     [#farmersprotest, #nofarmersnofood]               2  \n",
       "8                     [#farmersprotest, #nofarmersnofood]               2  \n",
       "11                    [#farmersprotest, #nofarmersnofood]               2  \n",
       "...                                                   ...             ...  \n",
       "117395        [#mahapanchayatrevolution, #farmersprotest]               2  \n",
       "117397        [#mahapanchayatrevolution, #farmersprotest]               2  \n",
       "117400        [#mahapanchayatrevolution, #farmersprotest]               2  \n",
       "117404        [#mahapanchayatrevolution, #farmersprotest]               2  \n",
       "117406        [#farmersprotest, #mahapanchayatrevolution]               2  \n",
       "\n",
       "[48429 rows x 3 columns]"
      ]
     },
     "execution_count": 17,
     "metadata": {},
     "output_type": "execute_result"
    }
   ],
   "source": [
    "raw_tweets['hashtags_count'] = raw_tweets['hashtags'].apply(lambda x: len(x))\n",
    "raw_tweets[['lowercase','hashtags','hashtags_count']]"
   ]
  },
  {
   "cell_type": "code",
   "execution_count": 18,
   "id": "c513e775",
   "metadata": {},
   "outputs": [
    {
     "data": {
      "text/plain": [
       "count    48429.000000\n",
       "mean         2.816597\n",
       "std          2.386539\n",
       "min          1.000000\n",
       "25%          1.000000\n",
       "50%          2.000000\n",
       "75%          3.000000\n",
       "max         25.000000\n",
       "Name: hashtags_count, dtype: float64"
      ]
     },
     "execution_count": 18,
     "metadata": {},
     "output_type": "execute_result"
    }
   ],
   "source": [
    "hashtag_stats = raw_tweets['hashtags_count'].describe()\n",
    "hashtag_stats"
   ]
  },
  {
   "cell_type": "code",
   "execution_count": 19,
   "id": "a951d918",
   "metadata": {},
   "outputs": [
    {
     "name": "stdout",
     "output_type": "stream",
     "text": [
      "The minimum number of hashtags: 1.0\n",
      "The maximum number of hashtags: 25.0\n",
      "The average number of hashtags: 2.816597493237523\n"
     ]
    }
   ],
   "source": [
    "ht_min = hashtag_stats[3]\n",
    "ht_max = hashtag_stats[7]\n",
    "ht_mean = hashtag_stats[1]\n",
    "\n",
    "print('The minimum number of hashtags:',ht_min)\n",
    "print('The maximum number of hashtags:',ht_max)\n",
    "print('The average number of hashtags:',ht_mean)"
   ]
  }
 ],
 "metadata": {
  "kernelspec": {
   "display_name": "Python 3 (ipykernel)",
   "language": "python",
   "name": "python3"
  },
  "language_info": {
   "codemirror_mode": {
    "name": "ipython",
    "version": 3
   },
   "file_extension": ".py",
   "mimetype": "text/x-python",
   "name": "python",
   "nbconvert_exporter": "python",
   "pygments_lexer": "ipython3",
   "version": "3.10.9"
  }
 },
 "nbformat": 4,
 "nbformat_minor": 5
}
